{
 "cells": [
  {
   "cell_type": "markdown",
   "metadata": {},
   "source": [
    "# Пролонгация полисов"
   ]
  },
  {
   "cell_type": "markdown",
   "metadata": {},
   "source": [
    "#### Выгрузим данные и посмотрим на них"
   ]
  },
  {
   "cell_type": "code",
   "execution_count": 2,
   "metadata": {},
   "outputs": [],
   "source": [
    "import pandas as pd"
   ]
  },
  {
   "cell_type": "code",
   "execution_count": 3,
   "metadata": {},
   "outputs": [],
   "source": [
    "data = pd.read_csv('data.txt', sep = ';')"
   ]
  },
  {
   "cell_type": "code",
   "execution_count": 4,
   "metadata": {},
   "outputs": [
    {
     "data": {
      "text/html": [
       "<div>\n",
       "<style scoped>\n",
       "    .dataframe tbody tr th:only-of-type {\n",
       "        vertical-align: middle;\n",
       "    }\n",
       "\n",
       "    .dataframe tbody tr th {\n",
       "        vertical-align: top;\n",
       "    }\n",
       "\n",
       "    .dataframe thead th {\n",
       "        text-align: right;\n",
       "    }\n",
       "</style>\n",
       "<table border=\"1\" class=\"dataframe\">\n",
       "  <thead>\n",
       "    <tr style=\"text-align: right;\">\n",
       "      <th></th>\n",
       "      <th>DATA_TYPE</th>\n",
       "      <th>POLICY_ID</th>\n",
       "      <th>POLICY_BEGIN_MONTH</th>\n",
       "      <th>POLICY_END_MONTH</th>\n",
       "      <th>POLICY_IS_RENEWED</th>\n",
       "      <th>POLICY_SALES_CHANNEL</th>\n",
       "      <th>POLICY_SALES_CHANNEL_GROUP</th>\n",
       "      <th>POLICY_BRANCH</th>\n",
       "      <th>POLICY_MIN_AGE</th>\n",
       "      <th>POLICY_MIN_DRIVING_EXPERIENCE</th>\n",
       "      <th>...</th>\n",
       "      <th>POLICY_PRV_CLM_GLT_N</th>\n",
       "      <th>CLIENT_HAS_DAGO</th>\n",
       "      <th>CLIENT_HAS_OSAGO</th>\n",
       "      <th>POLICY_COURT_SIGN</th>\n",
       "      <th>CLAIM_AVG_ACC_ST_PRD</th>\n",
       "      <th>POLICY_HAS_COMPLAINTS</th>\n",
       "      <th>POLICY_YEARS_RENEWED_N</th>\n",
       "      <th>POLICY_DEDUCT_VALUE</th>\n",
       "      <th>CLIENT_REGISTRATION_REGION</th>\n",
       "      <th>POLICY_PRICE_CHANGE</th>\n",
       "    </tr>\n",
       "  </thead>\n",
       "  <tbody>\n",
       "    <tr>\n",
       "      <th>0</th>\n",
       "      <td>TRAIN</td>\n",
       "      <td>1</td>\n",
       "      <td>1</td>\n",
       "      <td>1</td>\n",
       "      <td>1</td>\n",
       "      <td>39</td>\n",
       "      <td>1</td>\n",
       "      <td>Москва</td>\n",
       "      <td>51</td>\n",
       "      <td>12</td>\n",
       "      <td>...</td>\n",
       "      <td>N</td>\n",
       "      <td>1</td>\n",
       "      <td>0</td>\n",
       "      <td>0</td>\n",
       "      <td>0.0</td>\n",
       "      <td>0</td>\n",
       "      <td>0</td>\n",
       "      <td>0.0</td>\n",
       "      <td>Тульская</td>\n",
       "      <td>-1.00</td>\n",
       "    </tr>\n",
       "    <tr>\n",
       "      <th>1</th>\n",
       "      <td>TRAIN</td>\n",
       "      <td>2</td>\n",
       "      <td>1</td>\n",
       "      <td>1</td>\n",
       "      <td>1</td>\n",
       "      <td>50</td>\n",
       "      <td>5</td>\n",
       "      <td>Москва</td>\n",
       "      <td>35</td>\n",
       "      <td>7</td>\n",
       "      <td>...</td>\n",
       "      <td>0</td>\n",
       "      <td>1</td>\n",
       "      <td>1</td>\n",
       "      <td>0</td>\n",
       "      <td>0.0</td>\n",
       "      <td>0</td>\n",
       "      <td>4</td>\n",
       "      <td>0.0</td>\n",
       "      <td>Москва</td>\n",
       "      <td>-0.05</td>\n",
       "    </tr>\n",
       "    <tr>\n",
       "      <th>2</th>\n",
       "      <td>TRAIN</td>\n",
       "      <td>3</td>\n",
       "      <td>1</td>\n",
       "      <td>1</td>\n",
       "      <td>1</td>\n",
       "      <td>52</td>\n",
       "      <td>6</td>\n",
       "      <td>Москва</td>\n",
       "      <td>41</td>\n",
       "      <td>6</td>\n",
       "      <td>...</td>\n",
       "      <td>1L</td>\n",
       "      <td>0</td>\n",
       "      <td>0</td>\n",
       "      <td>0</td>\n",
       "      <td>0.0</td>\n",
       "      <td>0</td>\n",
       "      <td>1</td>\n",
       "      <td>12518.0</td>\n",
       "      <td>Московская</td>\n",
       "      <td>-0.07</td>\n",
       "    </tr>\n",
       "    <tr>\n",
       "      <th>3</th>\n",
       "      <td>TRAIN</td>\n",
       "      <td>4</td>\n",
       "      <td>1</td>\n",
       "      <td>1</td>\n",
       "      <td>1</td>\n",
       "      <td>50</td>\n",
       "      <td>5</td>\n",
       "      <td>Москва</td>\n",
       "      <td>36</td>\n",
       "      <td>12</td>\n",
       "      <td>...</td>\n",
       "      <td>0</td>\n",
       "      <td>1</td>\n",
       "      <td>1</td>\n",
       "      <td>0</td>\n",
       "      <td>0.0</td>\n",
       "      <td>0</td>\n",
       "      <td>6</td>\n",
       "      <td>15000.0</td>\n",
       "      <td>Москва</td>\n",
       "      <td>0.05</td>\n",
       "    </tr>\n",
       "    <tr>\n",
       "      <th>4</th>\n",
       "      <td>TRAIN</td>\n",
       "      <td>5</td>\n",
       "      <td>1</td>\n",
       "      <td>1</td>\n",
       "      <td>0</td>\n",
       "      <td>52</td>\n",
       "      <td>6</td>\n",
       "      <td>Санкт-Петербург</td>\n",
       "      <td>42</td>\n",
       "      <td>5</td>\n",
       "      <td>...</td>\n",
       "      <td>N</td>\n",
       "      <td>0</td>\n",
       "      <td>0</td>\n",
       "      <td>0</td>\n",
       "      <td>0.0</td>\n",
       "      <td>0</td>\n",
       "      <td>0</td>\n",
       "      <td>50000.0</td>\n",
       "      <td>Ленинградская</td>\n",
       "      <td>0.17</td>\n",
       "    </tr>\n",
       "  </tbody>\n",
       "</table>\n",
       "<p>5 rows × 30 columns</p>\n",
       "</div>"
      ],
      "text/plain": [
       "  DATA_TYPE  POLICY_ID  POLICY_BEGIN_MONTH  POLICY_END_MONTH  \\\n",
       "0     TRAIN          1                   1                 1   \n",
       "1     TRAIN          2                   1                 1   \n",
       "2     TRAIN          3                   1                 1   \n",
       "3     TRAIN          4                   1                 1   \n",
       "4     TRAIN          5                   1                 1   \n",
       "\n",
       "   POLICY_IS_RENEWED  POLICY_SALES_CHANNEL  POLICY_SALES_CHANNEL_GROUP  \\\n",
       "0                  1                    39                           1   \n",
       "1                  1                    50                           5   \n",
       "2                  1                    52                           6   \n",
       "3                  1                    50                           5   \n",
       "4                  0                    52                           6   \n",
       "\n",
       "     POLICY_BRANCH  POLICY_MIN_AGE  POLICY_MIN_DRIVING_EXPERIENCE  ...  \\\n",
       "0           Москва              51                             12  ...   \n",
       "1           Москва              35                              7  ...   \n",
       "2           Москва              41                              6  ...   \n",
       "3           Москва              36                             12  ...   \n",
       "4  Санкт-Петербург              42                              5  ...   \n",
       "\n",
       "  POLICY_PRV_CLM_GLT_N CLIENT_HAS_DAGO  CLIENT_HAS_OSAGO  POLICY_COURT_SIGN  \\\n",
       "0                    N               1                 0                  0   \n",
       "1                    0               1                 1                  0   \n",
       "2                   1L               0                 0                  0   \n",
       "3                    0               1                 1                  0   \n",
       "4                    N               0                 0                  0   \n",
       "\n",
       "   CLAIM_AVG_ACC_ST_PRD POLICY_HAS_COMPLAINTS POLICY_YEARS_RENEWED_N  \\\n",
       "0                   0.0                     0                      0   \n",
       "1                   0.0                     0                      4   \n",
       "2                   0.0                     0                      1   \n",
       "3                   0.0                     0                      6   \n",
       "4                   0.0                     0                      0   \n",
       "\n",
       "  POLICY_DEDUCT_VALUE CLIENT_REGISTRATION_REGION POLICY_PRICE_CHANGE  \n",
       "0                 0.0                   Тульская               -1.00  \n",
       "1                 0.0                     Москва               -0.05  \n",
       "2             12518.0                 Московская               -0.07  \n",
       "3             15000.0                     Москва                0.05  \n",
       "4             50000.0              Ленинградская                0.17  \n",
       "\n",
       "[5 rows x 30 columns]"
      ]
     },
     "execution_count": 4,
     "metadata": {},
     "output_type": "execute_result"
    }
   ],
   "source": [
    "data.head()"
   ]
  },
  {
   "cell_type": "markdown",
   "metadata": {},
   "source": [
    "#### Итак в нашем распоряжении 30 характеристик, разберемся с каждой из них. С первыми двумя все ясно. Начнем с месяцев."
   ]
  },
  {
   "cell_type": "code",
   "execution_count": 5,
   "metadata": {},
   "outputs": [
    {
     "data": {
      "text/plain": [
       "8     14426\n",
       "12    10475\n",
       "4      9736\n",
       "3      9282\n",
       "10     8100\n",
       "11     8048\n",
       "9      6888\n",
       "2      6525\n",
       "5      6201\n",
       "7      6141\n",
       "6      5700\n",
       "1      5083\n",
       "Name: POLICY_BEGIN_MONTH, dtype: int64"
      ]
     },
     "execution_count": 5,
     "metadata": {},
     "output_type": "execute_result"
    }
   ],
   "source": [
    "data['POLICY_BEGIN_MONTH'].value_counts()"
   ]
  },
  {
   "cell_type": "code",
   "execution_count": 6,
   "metadata": {},
   "outputs": [
    {
     "data": {
      "text/plain": [
       "8     14394\n",
       "12    10289\n",
       "4      9497\n",
       "3      9302\n",
       "10     8125\n",
       "11     7984\n",
       "9      6991\n",
       "2      6564\n",
       "5      6287\n",
       "7      6148\n",
       "6      5717\n",
       "1      5307\n",
       "Name: POLICY_END_MONTH, dtype: int64"
      ]
     },
     "execution_count": 6,
     "metadata": {},
     "output_type": "execute_result"
    }
   ],
   "source": [
    "data['POLICY_END_MONTH'].value_counts()"
   ]
  },
  {
   "cell_type": "code",
   "execution_count": 7,
   "metadata": {},
   "outputs": [
    {
     "data": {
      "text/html": [
       "<div>\n",
       "<style scoped>\n",
       "    .dataframe tbody tr th:only-of-type {\n",
       "        vertical-align: middle;\n",
       "    }\n",
       "\n",
       "    .dataframe tbody tr th {\n",
       "        vertical-align: top;\n",
       "    }\n",
       "\n",
       "    .dataframe thead th {\n",
       "        text-align: right;\n",
       "    }\n",
       "</style>\n",
       "<table border=\"1\" class=\"dataframe\">\n",
       "  <thead>\n",
       "    <tr style=\"text-align: right;\">\n",
       "      <th></th>\n",
       "      <th>POLICY_BEGIN_MONTH</th>\n",
       "      <th>POLICY_END_MONTH</th>\n",
       "    </tr>\n",
       "  </thead>\n",
       "  <tbody>\n",
       "    <tr>\n",
       "      <th>POLICY_BEGIN_MONTH</th>\n",
       "      <td>1.000000</td>\n",
       "      <td>0.997728</td>\n",
       "    </tr>\n",
       "    <tr>\n",
       "      <th>POLICY_END_MONTH</th>\n",
       "      <td>0.997728</td>\n",
       "      <td>1.000000</td>\n",
       "    </tr>\n",
       "  </tbody>\n",
       "</table>\n",
       "</div>"
      ],
      "text/plain": [
       "                    POLICY_BEGIN_MONTH  POLICY_END_MONTH\n",
       "POLICY_BEGIN_MONTH            1.000000          0.997728\n",
       "POLICY_END_MONTH              0.997728          1.000000"
      ]
     },
     "execution_count": 7,
     "metadata": {},
     "output_type": "execute_result"
    }
   ],
   "source": [
    "data[['POLICY_BEGIN_MONTH','POLICY_END_MONTH']].corr()"
   ]
  },
  {
   "cell_type": "code",
   "execution_count": 8,
   "metadata": {},
   "outputs": [
    {
     "data": {
      "text/plain": [
       "<seaborn.axisgrid.PairGrid at 0xffc0b38>"
      ]
     },
     "execution_count": 8,
     "metadata": {},
     "output_type": "execute_result"
    },
    {
     "data": {
      "image/png": "[encoded data removed]",
      "text/plain": [
       "<Figure size 540x540 with 12 Axes>"
      ]
     },
     "metadata": {
      "needs_background": "light"
     },
     "output_type": "display_data"
    }
   ],
   "source": [
    "import seaborn as sns\n",
    "sns.pairplot(data[['POLICY_END_MONTH','POLICY_BEGIN_MONTH','POLICY_IS_RENEWED']])"
   ]
  },
  {
   "cell_type": "markdown",
   "metadata": {},
   "source": [
    "Данные сильно коррелируют, что логично, ведь обычно страховку оформляют на год, а значит месяц начала и окончания договора совпадают. Однако вряд ли  факт продления хоть как то зависит от месяца, это показывает и совместная диаграмма. Скорее он зависит от разницы этих величин. Возможно следует сократить эти параметры для 1 колонки."
   ]
  },
  {
   "cell_type": "markdown",
   "metadata": {},
   "source": [
    "#### Следующие параметры - канал продаж и группа каналов продаж"
   ]
  },
  {
   "cell_type": "code",
   "execution_count": 9,
   "metadata": {},
   "outputs": [
    {
     "data": {
      "text/plain": [
       "<matplotlib.axes._subplots.AxesSubplot at 0x1d9ddfa0>"
      ]
     },
     "execution_count": 9,
     "metadata": {},
     "output_type": "execute_result"
    },
    {
     "data": {
      "image/png": "[encoded data removed]",
      "text/plain": [
       "<Figure size 432x288 with 1 Axes>"
      ]
     },
     "metadata": {
      "needs_background": "light"
     },
     "output_type": "display_data"
    }
   ],
   "source": [
    "data['POLICY_SALES_CHANNEL'].hist()"
   ]
  },
  {
   "cell_type": "code",
   "execution_count": 10,
   "metadata": {},
   "outputs": [
    {
     "data": {
      "text/html": [
       "<div>\n",
       "<style scoped>\n",
       "    .dataframe tbody tr th:only-of-type {\n",
       "        vertical-align: middle;\n",
       "    }\n",
       "\n",
       "    .dataframe tbody tr th {\n",
       "        vertical-align: top;\n",
       "    }\n",
       "\n",
       "    .dataframe thead th {\n",
       "        text-align: right;\n",
       "    }\n",
       "</style>\n",
       "<table border=\"1\" class=\"dataframe\">\n",
       "  <thead>\n",
       "    <tr style=\"text-align: right;\">\n",
       "      <th></th>\n",
       "      <th>POLICY_SALES_CHANNEL_GROUP</th>\n",
       "      <th>POLICY_SALES_CHANNEL</th>\n",
       "    </tr>\n",
       "  </thead>\n",
       "  <tbody>\n",
       "    <tr>\n",
       "      <th>POLICY_SALES_CHANNEL_GROUP</th>\n",
       "      <td>1.000000</td>\n",
       "      <td>0.688423</td>\n",
       "    </tr>\n",
       "    <tr>\n",
       "      <th>POLICY_SALES_CHANNEL</th>\n",
       "      <td>0.688423</td>\n",
       "      <td>1.000000</td>\n",
       "    </tr>\n",
       "  </tbody>\n",
       "</table>\n",
       "</div>"
      ],
      "text/plain": [
       "                            POLICY_SALES_CHANNEL_GROUP  POLICY_SALES_CHANNEL\n",
       "POLICY_SALES_CHANNEL_GROUP                    1.000000              0.688423\n",
       "POLICY_SALES_CHANNEL                          0.688423              1.000000"
      ]
     },
     "execution_count": 10,
     "metadata": {},
     "output_type": "execute_result"
    }
   ],
   "source": [
    "data[['POLICY_SALES_CHANNEL_GROUP','POLICY_SALES_CHANNEL']].corr()"
   ]
  },
  {
   "cell_type": "markdown",
   "metadata": {},
   "source": [
    "Непонятные параметры, с ними нужно будет еще поэксперементировать"
   ]
  },
  {
   "cell_type": "markdown",
   "metadata": {},
   "source": [
    "#### Филиал продажи   "
   ]
  },
  {
   "cell_type": "code",
   "execution_count": 11,
   "metadata": {},
   "outputs": [
    {
     "data": {
      "text/plain": [
       "Москва             50697\n",
       "Санкт-Петербург    45908\n",
       "Name: POLICY_BRANCH, dtype: int64"
      ]
     },
     "execution_count": 11,
     "metadata": {},
     "output_type": "execute_result"
    }
   ],
   "source": [
    "data['POLICY_BRANCH'].value_counts()"
   ]
  },
  {
   "cell_type": "markdown",
   "metadata": {},
   "source": [
    "Тут все пока очевидно"
   ]
  },
  {
   "cell_type": "markdown",
   "metadata": {},
   "source": [
    "#### Возраст и стаж вождения"
   ]
  },
  {
   "cell_type": "code",
   "execution_count": 12,
   "metadata": {},
   "outputs": [
    {
     "data": {
      "text/plain": [
       "count    96605.000000\n",
       "mean        42.580767\n",
       "std         10.694670\n",
       "min         18.000000\n",
       "25%         34.000000\n",
       "50%         41.000000\n",
       "75%         50.000000\n",
       "max         86.000000\n",
       "Name: POLICY_MIN_AGE, dtype: float64"
      ]
     },
     "execution_count": 12,
     "metadata": {},
     "output_type": "execute_result"
    }
   ],
   "source": [
    "data['POLICY_MIN_AGE'].describe()"
   ]
  },
  {
   "cell_type": "code",
   "execution_count": 13,
   "metadata": {},
   "outputs": [
    {
     "data": {
      "text/plain": [
       "<matplotlib.axes._subplots.AxesSubplot at 0x52c0d48>"
      ]
     },
     "execution_count": 13,
     "metadata": {},
     "output_type": "execute_result"
    },
    {
     "data": {
      "image/png": "[encoded data removed]",
      "text/plain": [
       "<Figure size 432x288 with 1 Axes>"
      ]
     },
     "metadata": {
      "needs_background": "light"
     },
     "output_type": "display_data"
    }
   ],
   "source": [
    "data['POLICY_MIN_AGE'].hist()"
   ]
  },
  {
   "cell_type": "code",
   "execution_count": 14,
   "metadata": {},
   "outputs": [
    {
     "data": {
      "text/plain": [
       "<matplotlib.axes._subplots.AxesSubplot at 0x1da4db20>"
      ]
     },
     "execution_count": 14,
     "metadata": {},
     "output_type": "execute_result"
    },
    {
     "data": {
      "image/png": "[encoded data removed]",
      "text/plain": [
       "<Figure size 432x288 with 1 Axes>"
      ]
     },
     "metadata": {
      "needs_background": "light"
     },
     "output_type": "display_data"
    }
   ],
   "source": [
    "import math\n",
    "data['POLICY_MIN_AGE'].map(lambda x: math.log(x)).hist()"
   ]
  },
  {
   "cell_type": "markdown",
   "metadata": {},
   "source": [
    "Логнормальное распределение, без сюрпризов"
   ]
  },
  {
   "cell_type": "code",
   "execution_count": 15,
   "metadata": {},
   "outputs": [
    {
     "data": {
      "text/plain": [
       "count    96605.000000\n",
       "mean        34.910357\n",
       "std        199.928966\n",
       "min          0.000000\n",
       "25%          8.000000\n",
       "50%         14.000000\n",
       "75%         19.000000\n",
       "max       2015.000000\n",
       "Name: POLICY_MIN_DRIVING_EXPERIENCE, dtype: float64"
      ]
     },
     "execution_count": 15,
     "metadata": {},
     "output_type": "execute_result"
    }
   ],
   "source": [
    "data['POLICY_MIN_DRIVING_EXPERIENCE'].describe()"
   ]
  },
  {
   "cell_type": "markdown",
   "metadata": {},
   "source": [
    "Ну тут конечно прикольно, 2015 лет стажа мне нравится. От греха подальше удалим такие бредовые строчки"
   ]
  },
  {
   "cell_type": "code",
   "execution_count": 16,
   "metadata": {},
   "outputs": [],
   "source": [
    "data.drop(data.index[data['POLICY_MIN_DRIVING_EXPERIENCE'] > 150], inplace = True)"
   ]
  },
  {
   "cell_type": "code",
   "execution_count": 17,
   "metadata": {},
   "outputs": [
    {
     "data": {
      "text/plain": [
       "<matplotlib.axes._subplots.AxesSubplot at 0x1db11ca0>"
      ]
     },
     "execution_count": 17,
     "metadata": {},
     "output_type": "execute_result"
    },
    {
     "data": {
      "image/png": "[encoded data removed]",
      "text/plain": [
       "<Figure size 432x288 with 1 Axes>"
      ]
     },
     "metadata": {
      "needs_background": "light"
     },
     "output_type": "display_data"
    }
   ],
   "source": [
    "data['POLICY_MIN_DRIVING_EXPERIENCE'].hist()"
   ]
  },
  {
   "cell_type": "markdown",
   "metadata": {},
   "source": [
    "Теперь все в порядке"
   ]
  },
  {
   "cell_type": "markdown",
   "metadata": {},
   "source": [
    "#### Сам автомобиль. Марка, модель, мощность"
   ]
  },
  {
   "cell_type": "code",
   "execution_count": 18,
   "metadata": {},
   "outputs": [
    {
     "data": {
      "text/plain": [
       "RAV4          4155\n",
       "Sportage      3682\n",
       "Duster        3597\n",
       "Focus         3170\n",
       "ix35          2945\n",
       "              ... \n",
       "Safe             1\n",
       "Fora (A21)       1\n",
       "<Пусто>          1\n",
       "3302             1\n",
       "XK8              1\n",
       "Name: VEHICLE_MODEL, Length: 546, dtype: int64"
      ]
     },
     "execution_count": 18,
     "metadata": {},
     "output_type": "execute_result"
    }
   ],
   "source": [
    "data['VEHICLE_MODEL'].value_counts()"
   ]
  },
  {
   "cell_type": "markdown",
   "metadata": {},
   "source": [
    "546 моделей. Переводить в бинарные значения многовато. Посмотрим топ"
   ]
  },
  {
   "cell_type": "code",
   "execution_count": 19,
   "metadata": {},
   "outputs": [
    {
     "data": {
      "text/plain": [
       "RAV4                           4155\n",
       "Sportage                       3682\n",
       "Duster                         3597\n",
       "Focus                          3170\n",
       "ix35                           2945\n",
       "Solaris                        2774\n",
       "Outlander                      2584\n",
       "Qashqai                        2532\n",
       "Ceed                           2454\n",
       "Kuga                           2058\n",
       "Rio                            1989\n",
       "ASX                            1977\n",
       "Tiguan                         1774\n",
       "Santa Fe                       1553\n",
       "CR-V                           1213\n",
       "X3                             1208\n",
       "Octavia                        1195\n",
       "Juke                           1185\n",
       "X-Trail                        1151\n",
       "Sorento                        1142\n",
       "Grand Vitara                   1123\n",
       "X1                             1055\n",
       "Sandero                         919\n",
       "Rapid                           905\n",
       "Land Cruiser Prado              896\n",
       "Fabia                           845\n",
       "Yeti                            842\n",
       "Megane                          801\n",
       "Logan                           796\n",
       "Другая модель (Легковое ТС)     756\n",
       "Fluence                         745\n",
       "Land Cruiser 150                737\n",
       "Forester                        710\n",
       "Camry                           676\n",
       "Pajero                          669\n",
       "X5                              658\n",
       "Mondeo                          621\n",
       "Outlander XL                    606\n",
       "Jetta                           602\n",
       "Highlander                      602\n",
       "Sandero Stepway                 595\n",
       "Pajero Sport                    595\n",
       "Golf                            588\n",
       "Mokka                           575\n",
       "XC60                            573\n",
       "Corolla                         562\n",
       "Cerato                          549\n",
       "Passat                          549\n",
       "i30                             548\n",
       "Q5                              545\n",
       "Touareg                         543\n",
       "Name: VEHICLE_MODEL, dtype: int64"
      ]
     },
     "execution_count": 19,
     "metadata": {},
     "output_type": "execute_result"
    }
   ],
   "source": [
    "vc = data['VEHICLE_MODEL'].value_counts()\n",
    "vc[vc>500]"
   ]
  },
  {
   "cell_type": "code",
   "execution_count": 20,
   "metadata": {},
   "outputs": [
    {
     "data": {
      "text/plain": [
       "count    95613.000000\n",
       "mean       154.224166\n",
       "std         54.224184\n",
       "min          0.000000\n",
       "25%        123.000000\n",
       "50%        146.000000\n",
       "75%        171.000000\n",
       "max       2000.000000\n",
       "Name: VEHICLE_ENGINE_POWER, dtype: float64"
      ]
     },
     "execution_count": 20,
     "metadata": {},
     "output_type": "execute_result"
    }
   ],
   "source": [
    "data['VEHICLE_ENGINE_POWER'].describe()"
   ]
  },
  {
   "cell_type": "markdown",
   "metadata": {},
   "source": [
    "По мощности тут тоже гигантские выбросы. 2000 ЛС конечно такие машины существуют, но что-то я сомневаюсь что в этих данных. Посмотрим что это за машины"
   ]
  },
  {
   "cell_type": "code",
   "execution_count": 21,
   "metadata": {},
   "outputs": [
    {
     "data": {
      "text/html": [
       "<div>\n",
       "<style scoped>\n",
       "    .dataframe tbody tr th:only-of-type {\n",
       "        vertical-align: middle;\n",
       "    }\n",
       "\n",
       "    .dataframe tbody tr th {\n",
       "        vertical-align: top;\n",
       "    }\n",
       "\n",
       "    .dataframe thead th {\n",
       "        text-align: right;\n",
       "    }\n",
       "</style>\n",
       "<table border=\"1\" class=\"dataframe\">\n",
       "  <thead>\n",
       "    <tr style=\"text-align: right;\">\n",
       "      <th></th>\n",
       "      <th>VEHICLE_MODEL</th>\n",
       "      <th>VEHICLE_ENGINE_POWER</th>\n",
       "    </tr>\n",
       "  </thead>\n",
       "  <tbody>\n",
       "    <tr>\n",
       "      <th>87766</th>\n",
       "      <td>XC90</td>\n",
       "      <td>2000.0</td>\n",
       "    </tr>\n",
       "    <tr>\n",
       "      <th>90318</th>\n",
       "      <td>RAV4</td>\n",
       "      <td>1148.0</td>\n",
       "    </tr>\n",
       "  </tbody>\n",
       "</table>\n",
       "</div>"
      ],
      "text/plain": [
       "      VEHICLE_MODEL  VEHICLE_ENGINE_POWER\n",
       "87766          XC90                2000.0\n",
       "90318          RAV4                1148.0"
      ]
     },
     "execution_count": 21,
     "metadata": {},
     "output_type": "execute_result"
    }
   ],
   "source": [
    "data[data['VEHICLE_ENGINE_POWER']>1000][['VEHICLE_MODEL','VEHICLE_ENGINE_POWER']]"
   ]
  },
  {
   "cell_type": "markdown",
   "metadata": {},
   "source": [
    "Ну эта вольво и эта тойота вряд ли имеют такую мощность. Я снова за удаление этих столбцов"
   ]
  },
  {
   "cell_type": "code",
   "execution_count": 22,
   "metadata": {},
   "outputs": [],
   "source": [
    "data.drop(data.index[data['VEHICLE_ENGINE_POWER'] > 1000], inplace = True)"
   ]
  },
  {
   "cell_type": "markdown",
   "metadata": {},
   "source": [
    "#### ТС куплено в кредит"
   ]
  },
  {
   "cell_type": "code",
   "execution_count": 23,
   "metadata": {},
   "outputs": [
    {
     "data": {
      "text/plain": [
       "0    64987\n",
       "1    30624\n",
       "Name: VEHICLE_IN_CREDIT, dtype: int64"
      ]
     },
     "execution_count": 23,
     "metadata": {},
     "output_type": "execute_result"
    }
   ],
   "source": [
    "data['VEHICLE_IN_CREDIT'].value_counts()"
   ]
  },
  {
   "cell_type": "markdown",
   "metadata": {},
   "source": [
    "#### Стоимость ТС - важнейший параметр"
   ]
  },
  {
   "cell_type": "code",
   "execution_count": 24,
   "metadata": {},
   "outputs": [
    {
     "data": {
      "text/plain": [
       "count     95611.000000\n",
       "mean     977536.084517\n",
       "std      688480.176896\n",
       "min           0.000000\n",
       "25%      557000.000000\n",
       "50%      806850.000000\n",
       "75%     1158022.500000\n",
       "max     9449000.000000\n",
       "Name: VEHICLE_SUM_INSURED, dtype: float64"
      ]
     },
     "execution_count": 24,
     "metadata": {},
     "output_type": "execute_result"
    }
   ],
   "source": [
    "pd.set_option('float_format', '{:f}'.format)\n",
    "data['VEHICLE_SUM_INSURED'].describe()"
   ]
  },
  {
   "cell_type": "markdown",
   "metadata": {},
   "source": [
    "Нулевая стоимость. Наверное такое возможно, однако интересно посмотреть"
   ]
  },
  {
   "cell_type": "code",
   "execution_count": 25,
   "metadata": {},
   "outputs": [
    {
     "data": {
      "text/html": [
       "<div>\n",
       "<style scoped>\n",
       "    .dataframe tbody tr th:only-of-type {\n",
       "        vertical-align: middle;\n",
       "    }\n",
       "\n",
       "    .dataframe tbody tr th {\n",
       "        vertical-align: top;\n",
       "    }\n",
       "\n",
       "    .dataframe thead th {\n",
       "        text-align: right;\n",
       "    }\n",
       "</style>\n",
       "<table border=\"1\" class=\"dataframe\">\n",
       "  <thead>\n",
       "    <tr style=\"text-align: right;\">\n",
       "      <th></th>\n",
       "      <th>VEHICLE_MODEL</th>\n",
       "      <th>VEHICLE_ENGINE_POWER</th>\n",
       "      <th>POLICY_MIN_AGE</th>\n",
       "      <th>POLICY_IS_RENEWED</th>\n",
       "      <th>POLICY_DEDUCT_VALUE</th>\n",
       "    </tr>\n",
       "  </thead>\n",
       "  <tbody>\n",
       "    <tr>\n",
       "      <th>3646</th>\n",
       "      <td>Outlander</td>\n",
       "      <td>170.000000</td>\n",
       "      <td>65</td>\n",
       "      <td>1</td>\n",
       "      <td>10000.000000</td>\n",
       "    </tr>\n",
       "    <tr>\n",
       "      <th>9397</th>\n",
       "      <td>RAV4</td>\n",
       "      <td>152.000000</td>\n",
       "      <td>38</td>\n",
       "      <td>0</td>\n",
       "      <td>10000.000000</td>\n",
       "    </tr>\n",
       "    <tr>\n",
       "      <th>15650</th>\n",
       "      <td>Grand Vitara</td>\n",
       "      <td>169.000000</td>\n",
       "      <td>41</td>\n",
       "      <td>1</td>\n",
       "      <td>0.000000</td>\n",
       "    </tr>\n",
       "    <tr>\n",
       "      <th>19775</th>\n",
       "      <td>Forester</td>\n",
       "      <td>150.000000</td>\n",
       "      <td>43</td>\n",
       "      <td>0</td>\n",
       "      <td>30000.000000</td>\n",
       "    </tr>\n",
       "    <tr>\n",
       "      <th>20559</th>\n",
       "      <td>Grand Vitara</td>\n",
       "      <td>140.000000</td>\n",
       "      <td>57</td>\n",
       "      <td>1</td>\n",
       "      <td>0.000000</td>\n",
       "    </tr>\n",
       "    <tr>\n",
       "      <th>20763</th>\n",
       "      <td>Touareg</td>\n",
       "      <td>249.000000</td>\n",
       "      <td>41</td>\n",
       "      <td>0</td>\n",
       "      <td>0.000000</td>\n",
       "    </tr>\n",
       "    <tr>\n",
       "      <th>21597</th>\n",
       "      <td>QX70</td>\n",
       "      <td>333.000000</td>\n",
       "      <td>43</td>\n",
       "      <td>1</td>\n",
       "      <td>20000.000000</td>\n",
       "    </tr>\n",
       "    <tr>\n",
       "      <th>23959</th>\n",
       "      <td>Qashqai</td>\n",
       "      <td>114.000000</td>\n",
       "      <td>31</td>\n",
       "      <td>1</td>\n",
       "      <td>15000.000000</td>\n",
       "    </tr>\n",
       "    <tr>\n",
       "      <th>28295</th>\n",
       "      <td>CX-5</td>\n",
       "      <td>150.000000</td>\n",
       "      <td>34</td>\n",
       "      <td>0</td>\n",
       "      <td>0.000000</td>\n",
       "    </tr>\n",
       "    <tr>\n",
       "      <th>31024</th>\n",
       "      <td>Outlander XL</td>\n",
       "      <td>146.000000</td>\n",
       "      <td>49</td>\n",
       "      <td>1</td>\n",
       "      <td>0.000000</td>\n",
       "    </tr>\n",
       "    <tr>\n",
       "      <th>33138</th>\n",
       "      <td>Carisma</td>\n",
       "      <td>103.000000</td>\n",
       "      <td>34</td>\n",
       "      <td>0</td>\n",
       "      <td>10000.000000</td>\n",
       "    </tr>\n",
       "    <tr>\n",
       "      <th>33519</th>\n",
       "      <td>Land Cruiser 150</td>\n",
       "      <td>173.000000</td>\n",
       "      <td>54</td>\n",
       "      <td>1</td>\n",
       "      <td>10000.000000</td>\n",
       "    </tr>\n",
       "    <tr>\n",
       "      <th>33707</th>\n",
       "      <td>Lacetti</td>\n",
       "      <td>95.000000</td>\n",
       "      <td>55</td>\n",
       "      <td>1</td>\n",
       "      <td>0.000000</td>\n",
       "    </tr>\n",
       "    <tr>\n",
       "      <th>44864</th>\n",
       "      <td>Focus</td>\n",
       "      <td>116.000000</td>\n",
       "      <td>63</td>\n",
       "      <td>1</td>\n",
       "      <td>0.000000</td>\n",
       "    </tr>\n",
       "    <tr>\n",
       "      <th>45089</th>\n",
       "      <td>Rio</td>\n",
       "      <td>123.000000</td>\n",
       "      <td>57</td>\n",
       "      <td>0</td>\n",
       "      <td>0.000000</td>\n",
       "    </tr>\n",
       "    <tr>\n",
       "      <th>45702</th>\n",
       "      <td>Outlander</td>\n",
       "      <td>146.000000</td>\n",
       "      <td>58</td>\n",
       "      <td>0</td>\n",
       "      <td>0.000000</td>\n",
       "    </tr>\n",
       "    <tr>\n",
       "      <th>45854</th>\n",
       "      <td>Outlander</td>\n",
       "      <td>146.000000</td>\n",
       "      <td>34</td>\n",
       "      <td>1</td>\n",
       "      <td>0.000000</td>\n",
       "    </tr>\n",
       "    <tr>\n",
       "      <th>46182</th>\n",
       "      <td>Q3</td>\n",
       "      <td>170.000000</td>\n",
       "      <td>33</td>\n",
       "      <td>1</td>\n",
       "      <td>0.000000</td>\n",
       "    </tr>\n",
       "    <tr>\n",
       "      <th>46982</th>\n",
       "      <td>Continental GT</td>\n",
       "      <td>626.000000</td>\n",
       "      <td>31</td>\n",
       "      <td>1</td>\n",
       "      <td>0.000000</td>\n",
       "    </tr>\n",
       "    <tr>\n",
       "      <th>50394</th>\n",
       "      <td>Mondeo</td>\n",
       "      <td>145.000000</td>\n",
       "      <td>18</td>\n",
       "      <td>0</td>\n",
       "      <td>0.000000</td>\n",
       "    </tr>\n",
       "    <tr>\n",
       "      <th>51931</th>\n",
       "      <td>Fabia</td>\n",
       "      <td>105.000000</td>\n",
       "      <td>49</td>\n",
       "      <td>0</td>\n",
       "      <td>0.000000</td>\n",
       "    </tr>\n",
       "    <tr>\n",
       "      <th>52557</th>\n",
       "      <td>X3</td>\n",
       "      <td>231.000000</td>\n",
       "      <td>35</td>\n",
       "      <td>0</td>\n",
       "      <td>5000.000000</td>\n",
       "    </tr>\n",
       "    <tr>\n",
       "      <th>53014</th>\n",
       "      <td>Pajero Sport</td>\n",
       "      <td>178.000000</td>\n",
       "      <td>46</td>\n",
       "      <td>0</td>\n",
       "      <td>0.000000</td>\n",
       "    </tr>\n",
       "    <tr>\n",
       "      <th>53787</th>\n",
       "      <td>Touareg</td>\n",
       "      <td>245.000000</td>\n",
       "      <td>33</td>\n",
       "      <td>1</td>\n",
       "      <td>0.000000</td>\n",
       "    </tr>\n",
       "    <tr>\n",
       "      <th>55958</th>\n",
       "      <td>Stavic</td>\n",
       "      <td>149.000000</td>\n",
       "      <td>35</td>\n",
       "      <td>1</td>\n",
       "      <td>10000.000000</td>\n",
       "    </tr>\n",
       "    <tr>\n",
       "      <th>58690</th>\n",
       "      <td>Ceed</td>\n",
       "      <td>125.000000</td>\n",
       "      <td>43</td>\n",
       "      <td>0</td>\n",
       "      <td>0.000000</td>\n",
       "    </tr>\n",
       "    <tr>\n",
       "      <th>58986</th>\n",
       "      <td>Fabia</td>\n",
       "      <td>86.000000</td>\n",
       "      <td>39</td>\n",
       "      <td>1</td>\n",
       "      <td>0.000000</td>\n",
       "    </tr>\n",
       "    <tr>\n",
       "      <th>64101</th>\n",
       "      <td>Rapid</td>\n",
       "      <td>105.000000</td>\n",
       "      <td>29</td>\n",
       "      <td>0</td>\n",
       "      <td>0.000000</td>\n",
       "    </tr>\n",
       "    <tr>\n",
       "      <th>69507</th>\n",
       "      <td>Scenic</td>\n",
       "      <td>106.000000</td>\n",
       "      <td>32</td>\n",
       "      <td>0</td>\n",
       "      <td>10000.000000</td>\n",
       "    </tr>\n",
       "    <tr>\n",
       "      <th>74202</th>\n",
       "      <td>Duster</td>\n",
       "      <td>135.000000</td>\n",
       "      <td>76</td>\n",
       "      <td>0</td>\n",
       "      <td>0.000000</td>\n",
       "    </tr>\n",
       "    <tr>\n",
       "      <th>76071</th>\n",
       "      <td>Auris</td>\n",
       "      <td>124.000000</td>\n",
       "      <td>54</td>\n",
       "      <td>1</td>\n",
       "      <td>10000.000000</td>\n",
       "    </tr>\n",
       "    <tr>\n",
       "      <th>80710</th>\n",
       "      <td>Logan</td>\n",
       "      <td>102.000000</td>\n",
       "      <td>52</td>\n",
       "      <td>0</td>\n",
       "      <td>0.000000</td>\n",
       "    </tr>\n",
       "    <tr>\n",
       "      <th>85966</th>\n",
       "      <td>ix55</td>\n",
       "      <td>239.000000</td>\n",
       "      <td>49</td>\n",
       "      <td>1</td>\n",
       "      <td>0.000000</td>\n",
       "    </tr>\n",
       "    <tr>\n",
       "      <th>86969</th>\n",
       "      <td>Juke</td>\n",
       "      <td>190.000000</td>\n",
       "      <td>42</td>\n",
       "      <td>1</td>\n",
       "      <td>0.000000</td>\n",
       "    </tr>\n",
       "    <tr>\n",
       "      <th>86970</th>\n",
       "      <td>CX-7</td>\n",
       "      <td>163.000000</td>\n",
       "      <td>52</td>\n",
       "      <td>0</td>\n",
       "      <td>0.000000</td>\n",
       "    </tr>\n",
       "    <tr>\n",
       "      <th>87426</th>\n",
       "      <td>ix35</td>\n",
       "      <td>150.000000</td>\n",
       "      <td>47</td>\n",
       "      <td>1</td>\n",
       "      <td>0.000000</td>\n",
       "    </tr>\n",
       "    <tr>\n",
       "      <th>90336</th>\n",
       "      <td>Focus</td>\n",
       "      <td>125.000000</td>\n",
       "      <td>25</td>\n",
       "      <td>1</td>\n",
       "      <td>0.000000</td>\n",
       "    </tr>\n",
       "    <tr>\n",
       "      <th>90487</th>\n",
       "      <td>Granta</td>\n",
       "      <td>98.000000</td>\n",
       "      <td>55</td>\n",
       "      <td>0</td>\n",
       "      <td>10000.000000</td>\n",
       "    </tr>\n",
       "    <tr>\n",
       "      <th>94616</th>\n",
       "      <td>XC60</td>\n",
       "      <td>158.000000</td>\n",
       "      <td>40</td>\n",
       "      <td>1</td>\n",
       "      <td>0.000000</td>\n",
       "    </tr>\n",
       "    <tr>\n",
       "      <th>94974</th>\n",
       "      <td>Forester</td>\n",
       "      <td>171.000000</td>\n",
       "      <td>50</td>\n",
       "      <td>0</td>\n",
       "      <td>0.000000</td>\n",
       "    </tr>\n",
       "    <tr>\n",
       "      <th>96467</th>\n",
       "      <td>Megane</td>\n",
       "      <td>113.000000</td>\n",
       "      <td>51</td>\n",
       "      <td>0</td>\n",
       "      <td>10000.000000</td>\n",
       "    </tr>\n",
       "    <tr>\n",
       "      <th>96528</th>\n",
       "      <td>RAV4</td>\n",
       "      <td>146.000000</td>\n",
       "      <td>65</td>\n",
       "      <td>0</td>\n",
       "      <td>0.000000</td>\n",
       "    </tr>\n",
       "  </tbody>\n",
       "</table>\n",
       "</div>"
      ],
      "text/plain": [
       "          VEHICLE_MODEL  VEHICLE_ENGINE_POWER  POLICY_MIN_AGE  \\\n",
       "3646          Outlander            170.000000              65   \n",
       "9397               RAV4            152.000000              38   \n",
       "15650      Grand Vitara            169.000000              41   \n",
       "19775          Forester            150.000000              43   \n",
       "20559      Grand Vitara            140.000000              57   \n",
       "20763           Touareg            249.000000              41   \n",
       "21597              QX70            333.000000              43   \n",
       "23959           Qashqai            114.000000              31   \n",
       "28295              CX-5            150.000000              34   \n",
       "31024      Outlander XL            146.000000              49   \n",
       "33138           Carisma            103.000000              34   \n",
       "33519  Land Cruiser 150            173.000000              54   \n",
       "33707           Lacetti             95.000000              55   \n",
       "44864             Focus            116.000000              63   \n",
       "45089               Rio            123.000000              57   \n",
       "45702         Outlander            146.000000              58   \n",
       "45854         Outlander            146.000000              34   \n",
       "46182                Q3            170.000000              33   \n",
       "46982    Continental GT            626.000000              31   \n",
       "50394            Mondeo            145.000000              18   \n",
       "51931             Fabia            105.000000              49   \n",
       "52557                X3            231.000000              35   \n",
       "53014      Pajero Sport            178.000000              46   \n",
       "53787           Touareg            245.000000              33   \n",
       "55958            Stavic            149.000000              35   \n",
       "58690              Ceed            125.000000              43   \n",
       "58986             Fabia             86.000000              39   \n",
       "64101             Rapid            105.000000              29   \n",
       "69507            Scenic            106.000000              32   \n",
       "74202            Duster            135.000000              76   \n",
       "76071             Auris            124.000000              54   \n",
       "80710             Logan            102.000000              52   \n",
       "85966              ix55            239.000000              49   \n",
       "86969              Juke            190.000000              42   \n",
       "86970              CX-7            163.000000              52   \n",
       "87426              ix35            150.000000              47   \n",
       "90336             Focus            125.000000              25   \n",
       "90487            Granta             98.000000              55   \n",
       "94616              XC60            158.000000              40   \n",
       "94974          Forester            171.000000              50   \n",
       "96467            Megane            113.000000              51   \n",
       "96528              RAV4            146.000000              65   \n",
       "\n",
       "       POLICY_IS_RENEWED  POLICY_DEDUCT_VALUE  \n",
       "3646                   1         10000.000000  \n",
       "9397                   0         10000.000000  \n",
       "15650                  1             0.000000  \n",
       "19775                  0         30000.000000  \n",
       "20559                  1             0.000000  \n",
       "20763                  0             0.000000  \n",
       "21597                  1         20000.000000  \n",
       "23959                  1         15000.000000  \n",
       "28295                  0             0.000000  \n",
       "31024                  1             0.000000  \n",
       "33138                  0         10000.000000  \n",
       "33519                  1         10000.000000  \n",
       "33707                  1             0.000000  \n",
       "44864                  1             0.000000  \n",
       "45089                  0             0.000000  \n",
       "45702                  0             0.000000  \n",
       "45854                  1             0.000000  \n",
       "46182                  1             0.000000  \n",
       "46982                  1             0.000000  \n",
       "50394                  0             0.000000  \n",
       "51931                  0             0.000000  \n",
       "52557                  0          5000.000000  \n",
       "53014                  0             0.000000  \n",
       "53787                  1             0.000000  \n",
       "55958                  1         10000.000000  \n",
       "58690                  0             0.000000  \n",
       "58986                  1             0.000000  \n",
       "64101                  0             0.000000  \n",
       "69507                  0         10000.000000  \n",
       "74202                  0             0.000000  \n",
       "76071                  1         10000.000000  \n",
       "80710                  0             0.000000  \n",
       "85966                  1             0.000000  \n",
       "86969                  1             0.000000  \n",
       "86970                  0             0.000000  \n",
       "87426                  1             0.000000  \n",
       "90336                  1             0.000000  \n",
       "90487                  0         10000.000000  \n",
       "94616                  1             0.000000  \n",
       "94974                  0             0.000000  \n",
       "96467                  0         10000.000000  \n",
       "96528                  0             0.000000  "
      ]
     },
     "execution_count": 25,
     "metadata": {},
     "output_type": "execute_result"
    }
   ],
   "source": [
    "data[data['VEHICLE_SUM_INSURED']==0][['VEHICLE_MODEL','VEHICLE_ENGINE_POWER', 'POLICY_MIN_AGE', 'POLICY_IS_RENEWED', 'POLICY_DEDUCT_VALUE']]"
   ]
  },
  {
   "cell_type": "markdown",
   "metadata": {},
   "source": [
    "Таких машин довольно много, что это значит я не знаю, но на факт продления это влияет не напрямую, поэтому оставим как есть."
   ]
  },
  {
   "cell_type": "markdown",
   "metadata": {},
   "source": [
    "####  Убытки, жалобы, штрафы"
   ]
  },
  {
   "cell_type": "code",
   "execution_count": 26,
   "metadata": {},
   "outputs": [
    {
     "data": {
      "text/plain": [
       "0      67407\n",
       "1S      9961\n",
       "1L      9818\n",
       "2       6107\n",
       "3       1688\n",
       "4+       574\n",
       "n/d       56\n",
       "Name: POLICY_CLM_N, dtype: int64"
      ]
     },
     "execution_count": 26,
     "metadata": {},
     "output_type": "execute_result"
    }
   ],
   "source": [
    "data['POLICY_CLM_N'].value_counts()"
   ]
  },
  {
   "cell_type": "code",
   "execution_count": 27,
   "metadata": {},
   "outputs": [
    {
     "data": {
      "text/plain": [
       "0      71556\n",
       "1S      9912\n",
       "1L      7633\n",
       "2       4854\n",
       "3       1189\n",
       "4+       411\n",
       "n/d       56\n",
       "Name: POLICY_CLM_GLT_N, dtype: int64"
      ]
     },
     "execution_count": 27,
     "metadata": {},
     "output_type": "execute_result"
    }
   ],
   "source": [
    "data['POLICY_CLM_GLT_N'].value_counts()"
   ]
  },
  {
   "cell_type": "code",
   "execution_count": 28,
   "metadata": {},
   "outputs": [
    {
     "data": {
      "text/plain": [
       "0     44583\n",
       "N     32317\n",
       "1S     7259\n",
       "1L     6790\n",
       "2      3746\n",
       "3       788\n",
       "4+      128\n",
       "Name: POLICY_PRV_CLM_N, dtype: int64"
      ]
     },
     "execution_count": 28,
     "metadata": {},
     "output_type": "execute_result"
    }
   ],
   "source": [
    "data['POLICY_PRV_CLM_N'].value_counts()"
   ]
  },
  {
   "cell_type": "code",
   "execution_count": 29,
   "metadata": {},
   "outputs": [
    {
     "data": {
      "text/plain": [
       "0     48149\n",
       "N     32317\n",
       "1S     7303\n",
       "1L     4852\n",
       "2      2572\n",
       "3       358\n",
       "4+       60\n",
       "Name: POLICY_PRV_CLM_GLT_N, dtype: int64"
      ]
     },
     "execution_count": 29,
     "metadata": {},
     "output_type": "execute_result"
    }
   ],
   "source": [
    "data['POLICY_PRV_CLM_GLT_N'].value_counts()"
   ]
  },
  {
   "cell_type": "markdown",
   "metadata": {},
   "source": [
    "Нан значений нет. Смысл этих сокращений мне не понятин. Придется просто переводить в бинарные значения"
   ]
  },
  {
   "cell_type": "code",
   "execution_count": 30,
   "metadata": {},
   "outputs": [
    {
     "data": {
      "text/plain": [
       "0    68934\n",
       "1    26677\n",
       "Name: CLIENT_HAS_DAGO, dtype: int64"
      ]
     },
     "execution_count": 30,
     "metadata": {},
     "output_type": "execute_result"
    }
   ],
   "source": [
    "data['CLIENT_HAS_DAGO'].value_counts()"
   ]
  },
  {
   "cell_type": "code",
   "execution_count": 31,
   "metadata": {},
   "outputs": [
    {
     "data": {
      "text/plain": [
       "0    95513\n",
       "1       98\n",
       "Name: POLICY_COURT_SIGN, dtype: int64"
      ]
     },
     "execution_count": 31,
     "metadata": {},
     "output_type": "execute_result"
    }
   ],
   "source": [
    "data['POLICY_COURT_SIGN'].value_counts()"
   ]
  },
  {
   "cell_type": "code",
   "execution_count": 32,
   "metadata": {},
   "outputs": [
    {
     "data": {
      "text/plain": [
       "0    91\n",
       "1     7\n",
       "Name: POLICY_IS_RENEWED, dtype: int64"
      ]
     },
     "execution_count": 32,
     "metadata": {},
     "output_type": "execute_result"
    }
   ],
   "source": [
    "data[data['POLICY_COURT_SIGN']==1]['POLICY_IS_RENEWED'].value_counts()"
   ]
  },
  {
   "cell_type": "markdown",
   "metadata": {},
   "source": [
    "Логично, что если по полису был суд, то скорее всего полис не продлят"
   ]
  },
  {
   "cell_type": "code",
   "execution_count": 33,
   "metadata": {},
   "outputs": [
    {
     "data": {
      "text/plain": [
       "count   95611.000000\n",
       "mean        3.889444\n",
       "std        17.685962\n",
       "min         0.000000\n",
       "25%         0.000000\n",
       "50%         0.000000\n",
       "75%         0.000000\n",
       "max       737.000000\n",
       "Name: CLAIM_AVG_ACC_ST_PRD, dtype: float64"
      ]
     },
     "execution_count": 33,
     "metadata": {},
     "output_type": "execute_result"
    }
   ],
   "source": [
    "data['CLAIM_AVG_ACC_ST_PRD'].describe()"
   ]
  },
  {
   "cell_type": "markdown",
   "metadata": {},
   "source": [
    "Видимо в основном, все сразу сообщают о страховом случае"
   ]
  },
  {
   "cell_type": "code",
   "execution_count": 34,
   "metadata": {},
   "outputs": [
    {
     "data": {
      "text/plain": [
       "0    452\n",
       "1    282\n",
       "Name: POLICY_IS_RENEWED, dtype: int64"
      ]
     },
     "execution_count": 34,
     "metadata": {},
     "output_type": "execute_result"
    }
   ],
   "source": [
    "data[data['POLICY_HAS_COMPLAINTS']==1]['POLICY_IS_RENEWED'].value_counts()"
   ]
  },
  {
   "cell_type": "markdown",
   "metadata": {},
   "source": [
    "Тут же, не всегда жалобы клиентов означают то что полис не будет продлен. Видимо в компании хорошо умеют общаться с клиентами и решать их вопросы"
   ]
  },
  {
   "cell_type": "markdown",
   "metadata": {},
   "source": [
    "####  Количество лет пролонгации - наверное самый важный параметр"
   ]
  },
  {
   "cell_type": "code",
   "execution_count": 35,
   "metadata": {},
   "outputs": [
    {
     "data": {
      "text/plain": [
       "0     32261\n",
       "1     25296\n",
       "2     15276\n",
       "3     11495\n",
       "4      6215\n",
       "5      2228\n",
       "6      1748\n",
       "7       832\n",
       "8       104\n",
       "9        82\n",
       "N        56\n",
       "10       18\n",
       "Name: POLICY_YEARS_RENEWED_N, dtype: int64"
      ]
     },
     "execution_count": 35,
     "metadata": {},
     "output_type": "execute_result"
    }
   ],
   "source": [
    "data['POLICY_YEARS_RENEWED_N'].value_counts()"
   ]
  },
  {
   "cell_type": "markdown",
   "metadata": {},
   "source": [
    "N - видимо больше 10"
   ]
  },
  {
   "cell_type": "code",
   "execution_count": 36,
   "metadata": {},
   "outputs": [
    {
     "data": {
      "text/plain": [
       "<BarContainer object of 12 artists>"
      ]
     },
     "execution_count": 36,
     "metadata": {},
     "output_type": "execute_result"
    },
    {
     "data": {
      "image/png": "[encoded data removed]",
      "text/plain": [
       "<Figure size 432x288 with 1 Axes>"
      ]
     },
     "metadata": {
      "needs_background": "light"
     },
     "output_type": "display_data"
    }
   ],
   "source": [
    "import matplotlib.pyplot as plt\n",
    "import numpy as np\n",
    "labels = data['POLICY_YEARS_RENEWED_N'].unique()\n",
    "x = np.arange(len(labels))  # the label locations\n",
    "width = 0.35  # the width of the bars\n",
    "plt.bar(x - width/2, data[data['POLICY_IS_RENEWED']==1]['POLICY_YEARS_RENEWED_N'].value_counts(), width)\n",
    "plt.bar(x + width/2, data[data['POLICY_IS_RENEWED']==0]['POLICY_YEARS_RENEWED_N'].value_counts(), width)"
   ]
  },
  {
   "cell_type": "markdown",
   "metadata": {},
   "source": [
    "Очевидной закономерности нет, однако видно что после 1 года пролонгации вероятность последующей пролонгации выше."
   ]
  },
  {
   "cell_type": "markdown",
   "metadata": {},
   "source": [
    "#### Сумма фрашизы по полюсу"
   ]
  },
  {
   "cell_type": "code",
   "execution_count": 37,
   "metadata": {},
   "outputs": [
    {
     "data": {
      "text/plain": [
       "count    95611.000000\n",
       "mean      5924.762984\n",
       "std      10384.579470\n",
       "min          0.000000\n",
       "25%          0.000000\n",
       "50%          0.000000\n",
       "75%      10000.000000\n",
       "max     120873.000000\n",
       "Name: POLICY_DEDUCT_VALUE, dtype: float64"
      ]
     },
     "execution_count": 37,
     "metadata": {},
     "output_type": "execute_result"
    }
   ],
   "source": [
    "data['POLICY_DEDUCT_VALUE'].describe()"
   ]
  },
  {
   "cell_type": "markdown",
   "metadata": {},
   "source": [
    "#### Регион клиента"
   ]
  },
  {
   "cell_type": "code",
   "execution_count": 38,
   "metadata": {},
   "outputs": [
    {
     "data": {
      "text/plain": [
       "Санкт-Петербург             38447\n",
       "Москва                      34095\n",
       "Московская                  12679\n",
       "Ленинградская                5796\n",
       "N                            1121\n",
       "                            ...  \n",
       "Алтай                           2\n",
       "Магаданская                     2\n",
       "Северная Осетия - Алания        2\n",
       "Приморский                      1\n",
       "Чукотский                       1\n",
       "Name: CLIENT_REGISTRATION_REGION, Length: 85, dtype: int64"
      ]
     },
     "execution_count": 38,
     "metadata": {},
     "output_type": "execute_result"
    }
   ],
   "source": [
    "data['CLIENT_REGISTRATION_REGION'].value_counts()"
   ]
  },
  {
   "cell_type": "markdown",
   "metadata": {},
   "source": [
    "Приличное количество значений. Кроме того присутствует нан значение, и оно довольно популярно"
   ]
  },
  {
   "cell_type": "markdown",
   "metadata": {},
   "source": [
    "#### Изменения цены - тоже важный параметр"
   ]
  },
  {
   "cell_type": "code",
   "execution_count": 39,
   "metadata": {},
   "outputs": [
    {
     "data": {
      "text/plain": [
       "count   95611.000000\n",
       "mean       -0.032309\n",
       "std         0.861957\n",
       "min        -1.000000\n",
       "25%        -0.170000\n",
       "50%         0.000000\n",
       "75%         0.050000\n",
       "max        60.020000\n",
       "Name: POLICY_PRICE_CHANGE, dtype: float64"
      ]
     },
     "execution_count": 39,
     "metadata": {},
     "output_type": "execute_result"
    }
   ],
   "source": [
    "data['POLICY_PRICE_CHANGE'].describe()"
   ]
  },
  {
   "cell_type": "markdown",
   "metadata": {},
   "source": [
    "## Построение модели"
   ]
  },
  {
   "cell_type": "markdown",
   "metadata": {},
   "source": [
    "Итак, очевидных зависимостей или аномалий не найдено. Задача - довольно классическая. Оптимальный вариант решения - градиентный бустинг. Для этого:\n",
    " - уберем все TEST типы данных, они все равно обнулены\n",
    " - удалим ненужные поля (айди полиса, айди посредника, марка (все равно модель уникальна), группа канала (все равно только для группировки))\n",
    " - разделим получившуюся выборку на тестовую и тренировочную подвыборки\n",
    " - избавимся от уникальных значений. \n"
   ]
  },
  {
   "cell_type": "markdown",
   "metadata": {},
   "source": [
    "#### Удалим тестовые строки и ненужные стобцы"
   ]
  },
  {
   "cell_type": "code",
   "execution_count": 40,
   "metadata": {},
   "outputs": [],
   "source": [
    "data.drop(data.index[data['DATA_TYPE'] == 'TEST '], inplace = True)"
   ]
  },
  {
   "cell_type": "code",
   "execution_count": 41,
   "metadata": {},
   "outputs": [],
   "source": [
    "drops = ['DATA_TYPE','POLICY_ID', 'POLICY_SALES_CHANNEL_GROUP', 'POLICY_INTERMEDIARY', 'VEHICLE_MAKE']\n",
    "data.drop(labels = drops, axis = 1, inplace = True)"
   ]
  },
  {
   "cell_type": "code",
   "execution_count": 42,
   "metadata": {
    "scrolled": true
   },
   "outputs": [
    {
     "data": {
      "text/html": [
       "<div>\n",
       "<style scoped>\n",
       "    .dataframe tbody tr th:only-of-type {\n",
       "        vertical-align: middle;\n",
       "    }\n",
       "\n",
       "    .dataframe tbody tr th {\n",
       "        vertical-align: top;\n",
       "    }\n",
       "\n",
       "    .dataframe thead th {\n",
       "        text-align: right;\n",
       "    }\n",
       "</style>\n",
       "<table border=\"1\" class=\"dataframe\">\n",
       "  <thead>\n",
       "    <tr style=\"text-align: right;\">\n",
       "      <th></th>\n",
       "      <th>POLICY_BEGIN_MONTH</th>\n",
       "      <th>POLICY_END_MONTH</th>\n",
       "      <th>POLICY_IS_RENEWED</th>\n",
       "      <th>POLICY_SALES_CHANNEL</th>\n",
       "      <th>POLICY_BRANCH</th>\n",
       "      <th>POLICY_MIN_AGE</th>\n",
       "      <th>POLICY_MIN_DRIVING_EXPERIENCE</th>\n",
       "      <th>VEHICLE_MODEL</th>\n",
       "      <th>VEHICLE_ENGINE_POWER</th>\n",
       "      <th>VEHICLE_IN_CREDIT</th>\n",
       "      <th>...</th>\n",
       "      <th>POLICY_PRV_CLM_GLT_N</th>\n",
       "      <th>CLIENT_HAS_DAGO</th>\n",
       "      <th>CLIENT_HAS_OSAGO</th>\n",
       "      <th>POLICY_COURT_SIGN</th>\n",
       "      <th>CLAIM_AVG_ACC_ST_PRD</th>\n",
       "      <th>POLICY_HAS_COMPLAINTS</th>\n",
       "      <th>POLICY_YEARS_RENEWED_N</th>\n",
       "      <th>POLICY_DEDUCT_VALUE</th>\n",
       "      <th>CLIENT_REGISTRATION_REGION</th>\n",
       "      <th>POLICY_PRICE_CHANGE</th>\n",
       "    </tr>\n",
       "  </thead>\n",
       "  <tbody>\n",
       "    <tr>\n",
       "      <th>0</th>\n",
       "      <td>1</td>\n",
       "      <td>1</td>\n",
       "      <td>1</td>\n",
       "      <td>39</td>\n",
       "      <td>Москва</td>\n",
       "      <td>51</td>\n",
       "      <td>12</td>\n",
       "      <td>Discovery</td>\n",
       "      <td>245.000000</td>\n",
       "      <td>0</td>\n",
       "      <td>...</td>\n",
       "      <td>N</td>\n",
       "      <td>1</td>\n",
       "      <td>0</td>\n",
       "      <td>0</td>\n",
       "      <td>0.000000</td>\n",
       "      <td>0</td>\n",
       "      <td>0</td>\n",
       "      <td>0.000000</td>\n",
       "      <td>Тульская</td>\n",
       "      <td>-1.000000</td>\n",
       "    </tr>\n",
       "    <tr>\n",
       "      <th>1</th>\n",
       "      <td>1</td>\n",
       "      <td>1</td>\n",
       "      <td>1</td>\n",
       "      <td>50</td>\n",
       "      <td>Москва</td>\n",
       "      <td>35</td>\n",
       "      <td>7</td>\n",
       "      <td>Zafira</td>\n",
       "      <td>140.000000</td>\n",
       "      <td>0</td>\n",
       "      <td>...</td>\n",
       "      <td>0</td>\n",
       "      <td>1</td>\n",
       "      <td>1</td>\n",
       "      <td>0</td>\n",
       "      <td>0.000000</td>\n",
       "      <td>0</td>\n",
       "      <td>4</td>\n",
       "      <td>0.000000</td>\n",
       "      <td>Москва</td>\n",
       "      <td>-0.050000</td>\n",
       "    </tr>\n",
       "    <tr>\n",
       "      <th>2</th>\n",
       "      <td>1</td>\n",
       "      <td>1</td>\n",
       "      <td>1</td>\n",
       "      <td>52</td>\n",
       "      <td>Москва</td>\n",
       "      <td>41</td>\n",
       "      <td>6</td>\n",
       "      <td>Soul</td>\n",
       "      <td>129.000000</td>\n",
       "      <td>0</td>\n",
       "      <td>...</td>\n",
       "      <td>1L</td>\n",
       "      <td>0</td>\n",
       "      <td>0</td>\n",
       "      <td>0</td>\n",
       "      <td>0.000000</td>\n",
       "      <td>0</td>\n",
       "      <td>1</td>\n",
       "      <td>12518.000000</td>\n",
       "      <td>Московская</td>\n",
       "      <td>-0.070000</td>\n",
       "    </tr>\n",
       "    <tr>\n",
       "      <th>3</th>\n",
       "      <td>1</td>\n",
       "      <td>1</td>\n",
       "      <td>1</td>\n",
       "      <td>50</td>\n",
       "      <td>Москва</td>\n",
       "      <td>36</td>\n",
       "      <td>12</td>\n",
       "      <td>C-Crosser</td>\n",
       "      <td>170.000000</td>\n",
       "      <td>0</td>\n",
       "      <td>...</td>\n",
       "      <td>0</td>\n",
       "      <td>1</td>\n",
       "      <td>1</td>\n",
       "      <td>0</td>\n",
       "      <td>0.000000</td>\n",
       "      <td>0</td>\n",
       "      <td>6</td>\n",
       "      <td>15000.000000</td>\n",
       "      <td>Москва</td>\n",
       "      <td>0.050000</td>\n",
       "    </tr>\n",
       "    <tr>\n",
       "      <th>4</th>\n",
       "      <td>1</td>\n",
       "      <td>1</td>\n",
       "      <td>0</td>\n",
       "      <td>52</td>\n",
       "      <td>Санкт-Петербург</td>\n",
       "      <td>42</td>\n",
       "      <td>5</td>\n",
       "      <td>Logan</td>\n",
       "      <td>102.000000</td>\n",
       "      <td>0</td>\n",
       "      <td>...</td>\n",
       "      <td>N</td>\n",
       "      <td>0</td>\n",
       "      <td>0</td>\n",
       "      <td>0</td>\n",
       "      <td>0.000000</td>\n",
       "      <td>0</td>\n",
       "      <td>0</td>\n",
       "      <td>50000.000000</td>\n",
       "      <td>Ленинградская</td>\n",
       "      <td>0.170000</td>\n",
       "    </tr>\n",
       "  </tbody>\n",
       "</table>\n",
       "<p>5 rows × 25 columns</p>\n",
       "</div>"
      ],
      "text/plain": [
       "   POLICY_BEGIN_MONTH  POLICY_END_MONTH  POLICY_IS_RENEWED  \\\n",
       "0                   1                 1                  1   \n",
       "1                   1                 1                  1   \n",
       "2                   1                 1                  1   \n",
       "3                   1                 1                  1   \n",
       "4                   1                 1                  0   \n",
       "\n",
       "   POLICY_SALES_CHANNEL    POLICY_BRANCH  POLICY_MIN_AGE  \\\n",
       "0                    39           Москва              51   \n",
       "1                    50           Москва              35   \n",
       "2                    52           Москва              41   \n",
       "3                    50           Москва              36   \n",
       "4                    52  Санкт-Петербург              42   \n",
       "\n",
       "   POLICY_MIN_DRIVING_EXPERIENCE VEHICLE_MODEL  VEHICLE_ENGINE_POWER  \\\n",
       "0                             12     Discovery            245.000000   \n",
       "1                              7        Zafira            140.000000   \n",
       "2                              6          Soul            129.000000   \n",
       "3                             12     C-Crosser            170.000000   \n",
       "4                              5         Logan            102.000000   \n",
       "\n",
       "   VEHICLE_IN_CREDIT  ...  POLICY_PRV_CLM_GLT_N CLIENT_HAS_DAGO  \\\n",
       "0                  0  ...                     N               1   \n",
       "1                  0  ...                     0               1   \n",
       "2                  0  ...                    1L               0   \n",
       "3                  0  ...                     0               1   \n",
       "4                  0  ...                     N               0   \n",
       "\n",
       "  CLIENT_HAS_OSAGO POLICY_COURT_SIGN CLAIM_AVG_ACC_ST_PRD  \\\n",
       "0                0                 0             0.000000   \n",
       "1                1                 0             0.000000   \n",
       "2                0                 0             0.000000   \n",
       "3                1                 0             0.000000   \n",
       "4                0                 0             0.000000   \n",
       "\n",
       "  POLICY_HAS_COMPLAINTS  POLICY_YEARS_RENEWED_N  POLICY_DEDUCT_VALUE  \\\n",
       "0                     0                       0             0.000000   \n",
       "1                     0                       4             0.000000   \n",
       "2                     0                       1         12518.000000   \n",
       "3                     0                       6         15000.000000   \n",
       "4                     0                       0         50000.000000   \n",
       "\n",
       "   CLIENT_REGISTRATION_REGION  POLICY_PRICE_CHANGE  \n",
       "0                    Тульская            -1.000000  \n",
       "1                      Москва            -0.050000  \n",
       "2                  Московская            -0.070000  \n",
       "3                      Москва             0.050000  \n",
       "4               Ленинградская             0.170000  \n",
       "\n",
       "[5 rows x 25 columns]"
      ]
     },
     "execution_count": 42,
     "metadata": {},
     "output_type": "execute_result"
    }
   ],
   "source": [
    "data.head()"
   ]
  },
  {
   "cell_type": "markdown",
   "metadata": {},
   "source": [
    "#### Вычтем месяцы"
   ]
  },
  {
   "cell_type": "code",
   "execution_count": 43,
   "metadata": {},
   "outputs": [],
   "source": [
    "data['POLICY_BEGIN_MONTH'] = data['POLICY_END_MONTH']-data['POLICY_BEGIN_MONTH']"
   ]
  },
  {
   "cell_type": "code",
   "execution_count": 44,
   "metadata": {},
   "outputs": [
    {
     "data": {
      "text/plain": [
       " 0     74727\n",
       "-1      1840\n",
       " 6        13\n",
       "-6         6\n",
       " 7         6\n",
       " 11        4\n",
       " 8         3\n",
       "-3         1\n",
       "-4         1\n",
       "-5         1\n",
       " 5         1\n",
       "Name: POLICY_BEGIN_MONTH, dtype: int64"
      ]
     },
     "execution_count": 44,
     "metadata": {},
     "output_type": "execute_result"
    }
   ],
   "source": [
    "data['POLICY_BEGIN_MONTH'].value_counts()"
   ]
  },
  {
   "cell_type": "code",
   "execution_count": 45,
   "metadata": {},
   "outputs": [],
   "source": [
    "data['POLICY_BEGIN_MONTH'] = data['POLICY_BEGIN_MONTH'].map(lambda x: 'N' if (x!=0 and x!=-1) else x)"
   ]
  },
  {
   "cell_type": "code",
   "execution_count": 46,
   "metadata": {},
   "outputs": [
    {
     "data": {
      "text/plain": [
       "0     74727\n",
       "-1     1840\n",
       "N        36\n",
       "Name: POLICY_BEGIN_MONTH, dtype: int64"
      ]
     },
     "execution_count": 46,
     "metadata": {},
     "output_type": "execute_result"
    }
   ],
   "source": [
    "data['POLICY_BEGIN_MONTH'].value_counts()"
   ]
  },
  {
   "cell_type": "code",
   "execution_count": 47,
   "metadata": {},
   "outputs": [],
   "source": [
    "del data['POLICY_END_MONTH']"
   ]
  },
  {
   "cell_type": "markdown",
   "metadata": {},
   "source": [
    "#### Избавимся от уникальных значений"
   ]
  },
  {
   "cell_type": "markdown",
   "metadata": {},
   "source": [
    "Поля модели машин и региона клиента содержат много уникальных значений. Выделим только топ значений, остальные, включая НАН переведем в отдельный тип."
   ]
  },
  {
   "cell_type": "code",
   "execution_count": 48,
   "metadata": {},
   "outputs": [],
   "source": [
    "g = data.groupby('VEHICLE_MODEL')\n",
    "data.loc[g['VEHICLE_MODEL'].transform(lambda x: len(x) <= 601).astype(bool), 'VEHICLE_MODEL'] = 'RARE'"
   ]
  },
  {
   "cell_type": "code",
   "execution_count": 49,
   "metadata": {},
   "outputs": [
    {
     "data": {
      "text/plain": [
       "RARE                  33929\n",
       "RAV4                   3337\n",
       "Sportage               2952\n",
       "Duster                 2897\n",
       "Focus                  2537\n",
       "ix35                   2373\n",
       "Solaris                2224\n",
       "Outlander              2105\n",
       "Qashqai                2034\n",
       "Ceed                   1987\n",
       "Kuga                   1607\n",
       "Rio                    1572\n",
       "ASX                    1563\n",
       "Tiguan                 1452\n",
       "Santa Fe               1226\n",
       "X3                      980\n",
       "CR-V                    956\n",
       "Octavia                 951\n",
       "Juke                    951\n",
       "X-Trail                 923\n",
       "Grand Vitara            910\n",
       "Sorento                 901\n",
       "X1                      820\n",
       "Sandero                 739\n",
       "Land Cruiser Prado      720\n",
       "Rapid                   717\n",
       "Fabia                   686\n",
       "Yeti                    684\n",
       "Megane                  644\n",
       "Logan                   621\n",
       "Fluence                 605\n",
       "Name: VEHICLE_MODEL, dtype: int64"
      ]
     },
     "execution_count": 49,
     "metadata": {},
     "output_type": "execute_result"
    }
   ],
   "source": [
    "data['VEHICLE_MODEL'].value_counts()"
   ]
  },
  {
   "cell_type": "code",
   "execution_count": 50,
   "metadata": {},
   "outputs": [],
   "source": [
    "g = data.groupby('CLIENT_REGISTRATION_REGION')\n",
    "data.loc[g['CLIENT_REGISTRATION_REGION'].transform(lambda x: len(x) <= 500).astype(bool), 'CLIENT_REGISTRATION_REGION'] = 'RARE'"
   ]
  },
  {
   "cell_type": "code",
   "execution_count": 51,
   "metadata": {},
   "outputs": [
    {
     "data": {
      "text/plain": [
       "Санкт-Петербург    30793\n",
       "Москва             27360\n",
       "Московская         10184\n",
       "Ленинградская       4598\n",
       "RARE                2776\n",
       "N                    892\n",
       "Name: CLIENT_REGISTRATION_REGION, dtype: int64"
      ]
     },
     "execution_count": 51,
     "metadata": {},
     "output_type": "execute_result"
    }
   ],
   "source": [
    "data['CLIENT_REGISTRATION_REGION'].value_counts()"
   ]
  },
  {
   "cell_type": "code",
   "execution_count": 52,
   "metadata": {},
   "outputs": [],
   "source": [
    "data = pd.get_dummies(data, columns=['POLICY_BEGIN_MONTH', \"POLICY_BRANCH\", \"INSURER_GENDER\", 'POLICY_CLM_GLT_N', 'POLICY_PRV_CLM_N', 'POLICY_PRV_CLM_GLT_N', 'CLIENT_REGISTRATION_REGION', 'POLICY_CLM_N', 'VEHICLE_MODEL', 'POLICY_YEARS_RENEWED_N'])"
   ]
  },
  {
   "cell_type": "code",
   "execution_count": 53,
   "metadata": {},
   "outputs": [
    {
     "data": {
      "text/plain": [
       "Index(['POLICY_IS_RENEWED', 'POLICY_SALES_CHANNEL', 'POLICY_MIN_AGE',\n",
       "       'POLICY_MIN_DRIVING_EXPERIENCE', 'VEHICLE_ENGINE_POWER',\n",
       "       'VEHICLE_IN_CREDIT', 'VEHICLE_SUM_INSURED', 'CLIENT_HAS_DAGO',\n",
       "       'CLIENT_HAS_OSAGO', 'POLICY_COURT_SIGN', 'CLAIM_AVG_ACC_ST_PRD',\n",
       "       'POLICY_HAS_COMPLAINTS', 'POLICY_DEDUCT_VALUE', 'POLICY_PRICE_CHANGE',\n",
       "       'POLICY_BEGIN_MONTH_-1', 'POLICY_BEGIN_MONTH_0', 'POLICY_BEGIN_MONTH_N',\n",
       "       'POLICY_BRANCH_Москва', 'POLICY_BRANCH_Санкт-Петербург',\n",
       "       'INSURER_GENDER_F', 'INSURER_GENDER_M', 'POLICY_CLM_GLT_N_0',\n",
       "       'POLICY_CLM_GLT_N_1L', 'POLICY_CLM_GLT_N_1S', 'POLICY_CLM_GLT_N_2',\n",
       "       'POLICY_CLM_GLT_N_3', 'POLICY_CLM_GLT_N_4+', 'POLICY_CLM_GLT_N_n/d',\n",
       "       'POLICY_PRV_CLM_N_0', 'POLICY_PRV_CLM_N_1L', 'POLICY_PRV_CLM_N_1S',\n",
       "       'POLICY_PRV_CLM_N_2', 'POLICY_PRV_CLM_N_3', 'POLICY_PRV_CLM_N_4+',\n",
       "       'POLICY_PRV_CLM_N_N', 'POLICY_PRV_CLM_GLT_N_0',\n",
       "       'POLICY_PRV_CLM_GLT_N_1L', 'POLICY_PRV_CLM_GLT_N_1S',\n",
       "       'POLICY_PRV_CLM_GLT_N_2', 'POLICY_PRV_CLM_GLT_N_3',\n",
       "       'POLICY_PRV_CLM_GLT_N_4+', 'POLICY_PRV_CLM_GLT_N_N',\n",
       "       'CLIENT_REGISTRATION_REGION_N', 'CLIENT_REGISTRATION_REGION_RARE',\n",
       "       'CLIENT_REGISTRATION_REGION_Ленинградская',\n",
       "       'CLIENT_REGISTRATION_REGION_Москва',\n",
       "       'CLIENT_REGISTRATION_REGION_Московская',\n",
       "       'CLIENT_REGISTRATION_REGION_Санкт-Петербург', 'POLICY_CLM_N_0',\n",
       "       'POLICY_CLM_N_1L', 'POLICY_CLM_N_1S', 'POLICY_CLM_N_2',\n",
       "       'POLICY_CLM_N_3', 'POLICY_CLM_N_4+', 'POLICY_CLM_N_n/d',\n",
       "       'VEHICLE_MODEL_ASX', 'VEHICLE_MODEL_CR-V', 'VEHICLE_MODEL_Ceed',\n",
       "       'VEHICLE_MODEL_Duster', 'VEHICLE_MODEL_Fabia', 'VEHICLE_MODEL_Fluence',\n",
       "       'VEHICLE_MODEL_Focus', 'VEHICLE_MODEL_Grand Vitara',\n",
       "       'VEHICLE_MODEL_Juke', 'VEHICLE_MODEL_Kuga',\n",
       "       'VEHICLE_MODEL_Land Cruiser Prado', 'VEHICLE_MODEL_Logan',\n",
       "       'VEHICLE_MODEL_Megane', 'VEHICLE_MODEL_Octavia',\n",
       "       'VEHICLE_MODEL_Outlander', 'VEHICLE_MODEL_Qashqai',\n",
       "       'VEHICLE_MODEL_RARE', 'VEHICLE_MODEL_RAV4', 'VEHICLE_MODEL_Rapid',\n",
       "       'VEHICLE_MODEL_Rio', 'VEHICLE_MODEL_Sandero', 'VEHICLE_MODEL_Santa Fe',\n",
       "       'VEHICLE_MODEL_Solaris', 'VEHICLE_MODEL_Sorento',\n",
       "       'VEHICLE_MODEL_Sportage', 'VEHICLE_MODEL_Tiguan',\n",
       "       'VEHICLE_MODEL_X-Trail', 'VEHICLE_MODEL_X1', 'VEHICLE_MODEL_X3',\n",
       "       'VEHICLE_MODEL_Yeti', 'VEHICLE_MODEL_ix35', 'POLICY_YEARS_RENEWED_N_0',\n",
       "       'POLICY_YEARS_RENEWED_N_1', 'POLICY_YEARS_RENEWED_N_10',\n",
       "       'POLICY_YEARS_RENEWED_N_2', 'POLICY_YEARS_RENEWED_N_3',\n",
       "       'POLICY_YEARS_RENEWED_N_4', 'POLICY_YEARS_RENEWED_N_5',\n",
       "       'POLICY_YEARS_RENEWED_N_6', 'POLICY_YEARS_RENEWED_N_7',\n",
       "       'POLICY_YEARS_RENEWED_N_8', 'POLICY_YEARS_RENEWED_N_9',\n",
       "       'POLICY_YEARS_RENEWED_N_N'],\n",
       "      dtype='object')"
      ]
     },
     "execution_count": 53,
     "metadata": {},
     "output_type": "execute_result"
    }
   ],
   "source": [
    "data.columns"
   ]
  },
  {
   "cell_type": "code",
   "execution_count": 61,
   "metadata": {},
   "outputs": [
    {
     "data": {
      "text/plain": [
       "{'POLICY_IS_RENEWED': {'max': 1, 'min': 0},\n",
       " 'POLICY_SALES_CHANNEL': {'max': 63, 'min': 1},\n",
       " 'POLICY_MIN_AGE': {'max': 86, 'min': 18},\n",
       " 'POLICY_MIN_DRIVING_EXPERIENCE': {'max': 60, 'min': 0},\n",
       " 'VEHICLE_ENGINE_POWER': {'max': 626.0, 'min': 0.0},\n",
       " 'VEHICLE_IN_CREDIT': {'max': 1, 'min': 0},\n",
       " 'VEHICLE_SUM_INSURED': {'max': 9449000.0, 'min': 0.0},\n",
       " 'CLIENT_HAS_DAGO': {'max': 1, 'min': 0},\n",
       " 'CLIENT_HAS_OSAGO': {'max': 1, 'min': 0},\n",
       " 'POLICY_COURT_SIGN': {'max': 1, 'min': 0},\n",
       " 'CLAIM_AVG_ACC_ST_PRD': {'max': 737.0, 'min': 0.0},\n",
       " 'POLICY_HAS_COMPLAINTS': {'max': 1, 'min': 0},\n",
       " 'POLICY_DEDUCT_VALUE': {'max': 120873.0, 'min': 0.0},\n",
       " 'POLICY_PRICE_CHANGE': {'max': 60.02, 'min': -1.0},\n",
       " 'POLICY_BEGIN_MONTH_-1': {'max': 1, 'min': 0},\n",
       " 'POLICY_BEGIN_MONTH_0': {'max': 1, 'min': 0},\n",
       " 'POLICY_BEGIN_MONTH_N': {'max': 1, 'min': 0},\n",
       " 'POLICY_BRANCH_Москва': {'max': 1, 'min': 0},\n",
       " 'POLICY_BRANCH_Санкт-Петербург': {'max': 1, 'min': 0},\n",
       " 'INSURER_GENDER_F': {'max': 1, 'min': 0},\n",
       " 'INSURER_GENDER_M': {'max': 1, 'min': 0},\n",
       " 'POLICY_CLM_GLT_N_0': {'max': 1, 'min': 0},\n",
       " 'POLICY_CLM_GLT_N_1L': {'max': 1, 'min': 0},\n",
       " 'POLICY_CLM_GLT_N_1S': {'max': 1, 'min': 0},\n",
       " 'POLICY_CLM_GLT_N_2': {'max': 1, 'min': 0},\n",
       " 'POLICY_CLM_GLT_N_3': {'max': 1, 'min': 0},\n",
       " 'POLICY_CLM_GLT_N_4+': {'max': 1, 'min': 0},\n",
       " 'POLICY_CLM_GLT_N_n/d': {'max': 1, 'min': 0},\n",
       " 'POLICY_PRV_CLM_N_0': {'max': 1, 'min': 0},\n",
       " 'POLICY_PRV_CLM_N_1L': {'max': 1, 'min': 0},\n",
       " 'POLICY_PRV_CLM_N_1S': {'max': 1, 'min': 0},\n",
       " 'POLICY_PRV_CLM_N_2': {'max': 1, 'min': 0},\n",
       " 'POLICY_PRV_CLM_N_3': {'max': 1, 'min': 0},\n",
       " 'POLICY_PRV_CLM_N_4+': {'max': 1, 'min': 0},\n",
       " 'POLICY_PRV_CLM_N_N': {'max': 1, 'min': 0},\n",
       " 'POLICY_PRV_CLM_GLT_N_0': {'max': 1, 'min': 0},\n",
       " 'POLICY_PRV_CLM_GLT_N_1L': {'max': 1, 'min': 0},\n",
       " 'POLICY_PRV_CLM_GLT_N_1S': {'max': 1, 'min': 0},\n",
       " 'POLICY_PRV_CLM_GLT_N_2': {'max': 1, 'min': 0},\n",
       " 'POLICY_PRV_CLM_GLT_N_3': {'max': 1, 'min': 0},\n",
       " 'POLICY_PRV_CLM_GLT_N_4+': {'max': 1, 'min': 0},\n",
       " 'POLICY_PRV_CLM_GLT_N_N': {'max': 1, 'min': 0},\n",
       " 'CLIENT_REGISTRATION_REGION_N': {'max': 1, 'min': 0},\n",
       " 'CLIENT_REGISTRATION_REGION_RARE': {'max': 1, 'min': 0},\n",
       " 'CLIENT_REGISTRATION_REGION_Ленинградская': {'max': 1, 'min': 0},\n",
       " 'CLIENT_REGISTRATION_REGION_Москва': {'max': 1, 'min': 0},\n",
       " 'CLIENT_REGISTRATION_REGION_Московская': {'max': 1, 'min': 0},\n",
       " 'CLIENT_REGISTRATION_REGION_Санкт-Петербург': {'max': 1, 'min': 0},\n",
       " 'POLICY_CLM_N_0': {'max': 1, 'min': 0},\n",
       " 'POLICY_CLM_N_1L': {'max': 1, 'min': 0},\n",
       " 'POLICY_CLM_N_1S': {'max': 1, 'min': 0},\n",
       " 'POLICY_CLM_N_2': {'max': 1, 'min': 0},\n",
       " 'POLICY_CLM_N_3': {'max': 1, 'min': 0},\n",
       " 'POLICY_CLM_N_4+': {'max': 1, 'min': 0},\n",
       " 'POLICY_CLM_N_n/d': {'max': 1, 'min': 0},\n",
       " 'VEHICLE_MODEL_ASX': {'max': 1, 'min': 0},\n",
       " 'VEHICLE_MODEL_CR-V': {'max': 1, 'min': 0},\n",
       " 'VEHICLE_MODEL_Ceed': {'max': 1, 'min': 0},\n",
       " 'VEHICLE_MODEL_Duster': {'max': 1, 'min': 0},\n",
       " 'VEHICLE_MODEL_Fabia': {'max': 1, 'min': 0},\n",
       " 'VEHICLE_MODEL_Fluence': {'max': 1, 'min': 0},\n",
       " 'VEHICLE_MODEL_Focus': {'max': 1, 'min': 0},\n",
       " 'VEHICLE_MODEL_Grand Vitara': {'max': 1, 'min': 0},\n",
       " 'VEHICLE_MODEL_Juke': {'max': 1, 'min': 0},\n",
       " 'VEHICLE_MODEL_Kuga': {'max': 1, 'min': 0},\n",
       " 'VEHICLE_MODEL_Land Cruiser Prado': {'max': 1, 'min': 0},\n",
       " 'VEHICLE_MODEL_Logan': {'max': 1, 'min': 0},\n",
       " 'VEHICLE_MODEL_Megane': {'max': 1, 'min': 0},\n",
       " 'VEHICLE_MODEL_Octavia': {'max': 1, 'min': 0},\n",
       " 'VEHICLE_MODEL_Outlander': {'max': 1, 'min': 0},\n",
       " 'VEHICLE_MODEL_Qashqai': {'max': 1, 'min': 0},\n",
       " 'VEHICLE_MODEL_RARE': {'max': 1, 'min': 0},\n",
       " 'VEHICLE_MODEL_RAV4': {'max': 1, 'min': 0},\n",
       " 'VEHICLE_MODEL_Rapid': {'max': 1, 'min': 0},\n",
       " 'VEHICLE_MODEL_Rio': {'max': 1, 'min': 0},\n",
       " 'VEHICLE_MODEL_Sandero': {'max': 1, 'min': 0},\n",
       " 'VEHICLE_MODEL_Santa Fe': {'max': 1, 'min': 0},\n",
       " 'VEHICLE_MODEL_Solaris': {'max': 1, 'min': 0},\n",
       " 'VEHICLE_MODEL_Sorento': {'max': 1, 'min': 0},\n",
       " 'VEHICLE_MODEL_Sportage': {'max': 1, 'min': 0},\n",
       " 'VEHICLE_MODEL_Tiguan': {'max': 1, 'min': 0},\n",
       " 'VEHICLE_MODEL_X-Trail': {'max': 1, 'min': 0},\n",
       " 'VEHICLE_MODEL_X1': {'max': 1, 'min': 0},\n",
       " 'VEHICLE_MODEL_X3': {'max': 1, 'min': 0},\n",
       " 'VEHICLE_MODEL_Yeti': {'max': 1, 'min': 0},\n",
       " 'VEHICLE_MODEL_ix35': {'max': 1, 'min': 0},\n",
       " 'POLICY_YEARS_RENEWED_N_0': {'max': 1, 'min': 0},\n",
       " 'POLICY_YEARS_RENEWED_N_1': {'max': 1, 'min': 0},\n",
       " 'POLICY_YEARS_RENEWED_N_10': {'max': 1, 'min': 0},\n",
       " 'POLICY_YEARS_RENEWED_N_2': {'max': 1, 'min': 0},\n",
       " 'POLICY_YEARS_RENEWED_N_3': {'max': 1, 'min': 0},\n",
       " 'POLICY_YEARS_RENEWED_N_4': {'max': 1, 'min': 0},\n",
       " 'POLICY_YEARS_RENEWED_N_5': {'max': 1, 'min': 0},\n",
       " 'POLICY_YEARS_RENEWED_N_6': {'max': 1, 'min': 0},\n",
       " 'POLICY_YEARS_RENEWED_N_7': {'max': 1, 'min': 0},\n",
       " 'POLICY_YEARS_RENEWED_N_8': {'max': 1, 'min': 0},\n",
       " 'POLICY_YEARS_RENEWED_N_9': {'max': 1, 'min': 0},\n",
       " 'POLICY_YEARS_RENEWED_N_N': {'max': 1, 'min': 0}}"
      ]
     },
     "execution_count": 61,
     "metadata": {},
     "output_type": "execute_result"
    }
   ],
   "source": [
    "parametres = {}\n",
    "for i in data.columns:\n",
    "    parametres[i] = {'max':data[i].max(), 'min': data[i].min()}\n",
    "parametres"
   ]
  },
  {
   "cell_type": "markdown",
   "metadata": {},
   "source": [
    "### Обучение"
   ]
  },
  {
   "cell_type": "code",
   "execution_count": 221,
   "metadata": {},
   "outputs": [],
   "source": [
    "from sklearn.ensemble import GradientBoostingClassifier\n",
    "from sklearn.model_selection import train_test_split\n",
    "from sklearn.preprocessing import MinMaxScaler"
   ]
  },
  {
   "cell_type": "code",
   "execution_count": 239,
   "metadata": {},
   "outputs": [],
   "source": [
    "y_train = data['POLICY_IS_RENEWED']\n",
    "x_train = data.drop('POLICY_IS_RENEWED', axis = 1)"
   ]
  },
  {
   "cell_type": "code",
   "execution_count": 240,
   "metadata": {},
   "outputs": [],
   "source": [
    "scaler = MinMaxScaler()\n",
    "x_train = scaler.fit_transform(x_train)"
   ]
  },
  {
   "cell_type": "code",
   "execution_count": 241,
   "metadata": {},
   "outputs": [
    {
     "data": {
      "text/plain": [
       "array([[0.61290323, 0.48529412, 0.2       , ..., 0.        , 0.        ,\n",
       "        0.        ],\n",
       "       [0.79032258, 0.25      , 0.11666667, ..., 0.        , 0.        ,\n",
       "        0.        ],\n",
       "       [0.82258065, 0.33823529, 0.1       , ..., 0.        , 0.        ,\n",
       "        0.        ],\n",
       "       ...,\n",
       "       [0.79032258, 0.60294118, 0.51666667, ..., 0.        , 0.        ,\n",
       "        0.        ],\n",
       "       [0.82258065, 0.33823529, 0.31666667, ..., 0.        , 0.        ,\n",
       "        0.        ],\n",
       "       [0.85483871, 0.11764706, 0.11666667, ..., 0.        , 0.        ,\n",
       "        0.        ]])"
      ]
     },
     "execution_count": 241,
     "metadata": {},
     "output_type": "execute_result"
    }
   ],
   "source": [
    "x_train"
   ]
  },
  {
   "cell_type": "code",
   "execution_count": 242,
   "metadata": {},
   "outputs": [],
   "source": [
    "state = 12  \n",
    "test_size = 0.2 \n",
    "  \n",
    "x_train, x_val, y_train, y_val = train_test_split(x_train, y_train,  \n",
    "    test_size=test_size, random_state=state)"
   ]
  },
  {
   "cell_type": "code",
   "execution_count": 228,
   "metadata": {},
   "outputs": [
    {
     "data": {
      "text/plain": [
       "GradientBoostingClassifier(ccp_alpha=0.0, criterion='friedman_mse', init=None,\n",
       "                           learning_rate=0.5, loss='deviance', max_depth=4,\n",
       "                           max_features=16, max_leaf_nodes=None,\n",
       "                           min_impurity_decrease=0.0, min_impurity_split=None,\n",
       "                           min_samples_leaf=1, min_samples_split=2,\n",
       "                           min_weight_fraction_leaf=0.0, n_estimators=150,\n",
       "                           n_iter_no_change=None, presort='deprecated',\n",
       "                           random_state=0, subsample=1.0, tol=0.0001,\n",
       "                           validation_fraction=0.1, verbose=0,\n",
       "                           warm_start=False)"
      ]
     },
     "execution_count": 228,
     "metadata": {},
     "output_type": "execute_result"
    }
   ],
   "source": [
    "gb_clf = GradientBoostingClassifier(n_estimators=150, learning_rate=0.5, max_features=16, max_depth=4, random_state=0)\n",
    "gb_clf.fit(x_train, y_train)"
   ]
  },
  {
   "cell_type": "code",
   "execution_count": 229,
   "metadata": {},
   "outputs": [
    {
     "data": {
      "text/plain": [
       "0.724641703673799"
      ]
     },
     "execution_count": 229,
     "metadata": {},
     "output_type": "execute_result"
    }
   ],
   "source": [
    "gb_clf.score(x_train, y_train)"
   ]
  },
  {
   "cell_type": "code",
   "execution_count": 231,
   "metadata": {},
   "outputs": [
    {
     "data": {
      "text/plain": [
       "0.6962050867985466"
      ]
     },
     "execution_count": 231,
     "metadata": {},
     "output_type": "execute_result"
    }
   ],
   "source": [
    "gb_clf.score(x_val, y_val)"
   ]
  },
  {
   "cell_type": "code",
   "execution_count": 232,
   "metadata": {},
   "outputs": [
    {
     "data": {
      "text/plain": [
       "array([[0.88166041, 0.11833959],\n",
       "       [0.29188728, 0.70811272],\n",
       "       [0.33696301, 0.66303699],\n",
       "       ...,\n",
       "       [0.91988988, 0.08011012],\n",
       "       [0.54369801, 0.45630199],\n",
       "       [0.27807465, 0.72192535]])"
      ]
     },
     "execution_count": 232,
     "metadata": {},
     "output_type": "execute_result"
    }
   ],
   "source": [
    "gb_clf.predict_proba(x_val)"
   ]
  },
  {
   "cell_type": "code",
   "execution_count": 234,
   "metadata": {},
   "outputs": [],
   "source": [
    "from sklearn.neural_network import MLPClassifier"
   ]
  },
  {
   "cell_type": "code",
   "execution_count": 235,
   "metadata": {},
   "outputs": [
    {
     "data": {
      "text/plain": [
       "98"
      ]
     },
     "execution_count": 235,
     "metadata": {},
     "output_type": "execute_result"
    }
   ],
   "source": [
    "len(data.columns)"
   ]
  },
  {
   "cell_type": "code",
   "execution_count": 252,
   "metadata": {},
   "outputs": [],
   "source": [
    "clf = MLPClassifier( hidden_layer_sizes=(98, 98), verbose = 1, random_state=1, learning_rate_init=0.001)"
   ]
  },
  {
   "cell_type": "code",
   "execution_count": 253,
   "metadata": {},
   "outputs": [
    {
     "name": "stdout",
     "output_type": "stream",
     "text": [
      "Iteration 1, loss = 0.62593905\n",
      "Iteration 2, loss = 0.61791611\n",
      "Iteration 3, loss = 0.61529982\n",
      "Iteration 4, loss = 0.61251643\n",
      "Iteration 5, loss = 0.61016970\n",
      "Iteration 6, loss = 0.60802828\n",
      "Iteration 7, loss = 0.60555589\n",
      "Iteration 8, loss = 0.60328969\n",
      "Iteration 9, loss = 0.60127212\n",
      "Iteration 10, loss = 0.59902358\n",
      "Iteration 11, loss = 0.59619132\n",
      "Iteration 12, loss = 0.59421081\n",
      "Iteration 13, loss = 0.59148857\n",
      "Iteration 14, loss = 0.58919619\n",
      "Iteration 15, loss = 0.58668804\n",
      "Iteration 16, loss = 0.58463370\n",
      "Iteration 17, loss = 0.58177180\n",
      "Iteration 18, loss = 0.57999574\n",
      "Iteration 19, loss = 0.57753327\n",
      "Iteration 20, loss = 0.57530722\n",
      "Iteration 21, loss = 0.57298254\n",
      "Iteration 22, loss = 0.57032661\n",
      "Iteration 23, loss = 0.56830305\n",
      "Iteration 24, loss = 0.56599962\n",
      "Iteration 25, loss = 0.56399059\n",
      "Iteration 26, loss = 0.56176995\n",
      "Iteration 27, loss = 0.55943114\n",
      "Iteration 28, loss = 0.55765054\n",
      "Iteration 29, loss = 0.55501211\n",
      "Iteration 30, loss = 0.55321652\n",
      "Iteration 31, loss = 0.55112170\n",
      "Iteration 32, loss = 0.54902443\n",
      "Iteration 33, loss = 0.54755789\n",
      "Iteration 34, loss = 0.54556008\n",
      "Iteration 35, loss = 0.54384183\n",
      "Iteration 36, loss = 0.54205240\n",
      "Iteration 37, loss = 0.54025239\n",
      "Iteration 38, loss = 0.53818644\n",
      "Iteration 39, loss = 0.53607278\n",
      "Iteration 40, loss = 0.53491254\n",
      "Iteration 41, loss = 0.53349750\n",
      "Iteration 42, loss = 0.53144063\n",
      "Iteration 43, loss = 0.52981745\n",
      "Iteration 44, loss = 0.52711579\n",
      "Iteration 45, loss = 0.52541124\n",
      "Iteration 46, loss = 0.52482523\n",
      "Iteration 47, loss = 0.52304904\n",
      "Iteration 48, loss = 0.52224935\n",
      "Iteration 49, loss = 0.51962763\n",
      "Iteration 50, loss = 0.51837931\n",
      "Iteration 51, loss = 0.51687375\n",
      "Iteration 52, loss = 0.51541252\n",
      "Iteration 53, loss = 0.51397326\n",
      "Iteration 54, loss = 0.51290728\n",
      "Iteration 55, loss = 0.51024690\n",
      "Iteration 56, loss = 0.50959864\n",
      "Iteration 57, loss = 0.50807018\n",
      "Iteration 58, loss = 0.50651819\n",
      "Iteration 59, loss = 0.50559984\n",
      "Iteration 60, loss = 0.50391904\n",
      "Iteration 61, loss = 0.50354516\n",
      "Iteration 62, loss = 0.50166767\n",
      "Iteration 63, loss = 0.49949351\n",
      "Iteration 64, loss = 0.49832961\n",
      "Iteration 65, loss = 0.49788173\n",
      "Iteration 66, loss = 0.49666110\n",
      "Iteration 67, loss = 0.49454708\n",
      "Iteration 68, loss = 0.49450630\n",
      "Iteration 69, loss = 0.49159326\n",
      "Iteration 70, loss = 0.49090088\n",
      "Iteration 71, loss = 0.48980251\n",
      "Iteration 72, loss = 0.48935540\n",
      "Iteration 73, loss = 0.48731093\n",
      "Iteration 74, loss = 0.48643021\n",
      "Iteration 75, loss = 0.48597655\n",
      "Iteration 76, loss = 0.48536397\n",
      "Iteration 77, loss = 0.48242909\n",
      "Iteration 78, loss = 0.48185418\n",
      "Iteration 79, loss = 0.48079652\n",
      "Iteration 80, loss = 0.47934833\n",
      "Iteration 81, loss = 0.47882976\n",
      "Iteration 82, loss = 0.47864679\n",
      "Iteration 83, loss = 0.47730448\n",
      "Iteration 84, loss = 0.47655235\n",
      "Iteration 85, loss = 0.47488139\n",
      "Iteration 86, loss = 0.47484655\n",
      "Iteration 87, loss = 0.47263301\n",
      "Iteration 88, loss = 0.47210335\n",
      "Iteration 89, loss = 0.47092528\n",
      "Iteration 90, loss = 0.47023185\n",
      "Iteration 91, loss = 0.46856917\n",
      "Iteration 92, loss = 0.46849837\n",
      "Iteration 93, loss = 0.46731530\n",
      "Iteration 94, loss = 0.46650733\n",
      "Iteration 95, loss = 0.46572381\n",
      "Iteration 96, loss = 0.46472948\n",
      "Iteration 97, loss = 0.46338798\n",
      "Iteration 98, loss = 0.46481700\n",
      "Iteration 99, loss = 0.46295338\n",
      "Iteration 100, loss = 0.46150723\n",
      "Iteration 101, loss = 0.45969170\n",
      "Iteration 102, loss = 0.45998695\n",
      "Iteration 103, loss = 0.45966488\n",
      "Iteration 104, loss = 0.45699980\n",
      "Iteration 105, loss = 0.45787186\n",
      "Iteration 106, loss = 0.45688196\n",
      "Iteration 107, loss = 0.45444326\n",
      "Iteration 108, loss = 0.45501213\n",
      "Iteration 109, loss = 0.45394539\n",
      "Iteration 110, loss = 0.45397387\n",
      "Iteration 111, loss = 0.45271777\n",
      "Iteration 112, loss = 0.45208682\n",
      "Iteration 113, loss = 0.45159776\n",
      "Iteration 114, loss = 0.45005249\n",
      "Iteration 115, loss = 0.44852465\n",
      "Iteration 116, loss = 0.45009849\n",
      "Iteration 117, loss = 0.44882786\n",
      "Iteration 118, loss = 0.44760320\n",
      "Iteration 119, loss = 0.44785392\n",
      "Iteration 120, loss = 0.44576550\n",
      "Iteration 121, loss = 0.44571626\n",
      "Iteration 122, loss = 0.44482292\n",
      "Iteration 123, loss = 0.44306494\n",
      "Iteration 124, loss = 0.44316623\n",
      "Iteration 125, loss = 0.44254170\n",
      "Iteration 126, loss = 0.44200373\n",
      "Iteration 127, loss = 0.44122356\n",
      "Iteration 128, loss = 0.44136395\n",
      "Iteration 129, loss = 0.44068057\n",
      "Iteration 130, loss = 0.44017662\n",
      "Iteration 131, loss = 0.43928239\n",
      "Iteration 132, loss = 0.43853134\n",
      "Iteration 133, loss = 0.43697303\n",
      "Iteration 134, loss = 0.43587453\n",
      "Iteration 135, loss = 0.43601792\n",
      "Iteration 136, loss = 0.43432283\n",
      "Iteration 137, loss = 0.43567641\n",
      "Iteration 138, loss = 0.43492446\n",
      "Iteration 139, loss = 0.43397674\n",
      "Iteration 140, loss = 0.43285471\n",
      "Iteration 141, loss = 0.43276891\n",
      "Iteration 142, loss = 0.43217623\n",
      "Iteration 143, loss = 0.43034957\n",
      "Iteration 144, loss = 0.42992032\n",
      "Iteration 145, loss = 0.43010185\n",
      "Iteration 146, loss = 0.42947505\n",
      "Iteration 147, loss = 0.42892693\n",
      "Iteration 148, loss = 0.42838852\n",
      "Iteration 149, loss = 0.42716923\n",
      "Iteration 150, loss = 0.42751360\n",
      "Iteration 151, loss = 0.42649885\n",
      "Iteration 152, loss = 0.42531436\n",
      "Iteration 153, loss = 0.42642586\n",
      "Iteration 154, loss = 0.42497880\n",
      "Iteration 155, loss = 0.42553428\n",
      "Iteration 156, loss = 0.42457494\n",
      "Iteration 157, loss = 0.42433538\n",
      "Iteration 158, loss = 0.42264790\n",
      "Iteration 159, loss = 0.42278655\n",
      "Iteration 160, loss = 0.42240396\n",
      "Iteration 161, loss = 0.42273709\n",
      "Iteration 162, loss = 0.42085090\n",
      "Iteration 163, loss = 0.42101088\n",
      "Iteration 164, loss = 0.41904126\n",
      "Iteration 165, loss = 0.41927604\n",
      "Iteration 166, loss = 0.41895112\n",
      "Iteration 167, loss = 0.41950173\n",
      "Iteration 168, loss = 0.41831345\n",
      "Iteration 169, loss = 0.41724419\n",
      "Iteration 170, loss = 0.41703042\n",
      "Iteration 171, loss = 0.41645689\n",
      "Iteration 172, loss = 0.41705327\n",
      "Iteration 173, loss = 0.41687300\n",
      "Iteration 174, loss = 0.41488377\n",
      "Iteration 175, loss = 0.41544941\n",
      "Iteration 176, loss = 0.41376598\n",
      "Iteration 177, loss = 0.41478010\n",
      "Iteration 178, loss = 0.41287440\n",
      "Iteration 179, loss = 0.41320603\n",
      "Iteration 180, loss = 0.41412174\n",
      "Iteration 181, loss = 0.41223287\n",
      "Iteration 182, loss = 0.41289065\n",
      "Iteration 183, loss = 0.41081405\n",
      "Iteration 184, loss = 0.40964741\n",
      "Iteration 185, loss = 0.40984120\n",
      "Iteration 186, loss = 0.41005357\n",
      "Iteration 187, loss = 0.40888404\n",
      "Iteration 188, loss = 0.40986476\n",
      "Iteration 189, loss = 0.40771084\n",
      "Iteration 190, loss = 0.40793459\n",
      "Iteration 191, loss = 0.40781344\n",
      "Iteration 192, loss = 0.40818250\n",
      "Iteration 193, loss = 0.40699315\n",
      "Iteration 194, loss = 0.40782935\n",
      "Iteration 195, loss = 0.40619051\n",
      "Iteration 196, loss = 0.40555851\n",
      "Iteration 197, loss = 0.40659509\n",
      "Iteration 198, loss = 0.40483936\n",
      "Iteration 199, loss = 0.40444531\n",
      "Iteration 200, loss = 0.40524182\n"
     ]
    },
    {
     "name": "stderr",
     "output_type": "stream",
     "text": [
      "c:\\users\\alexander\\appdata\\local\\programs\\python\\python38-32\\lib\\site-packages\\sklearn\\neural_network\\_multilayer_perceptron.py:568: ConvergenceWarning: Stochastic Optimizer: Maximum iterations (200) reached and the optimization hasn't converged yet.\n",
      "  warnings.warn(\n"
     ]
    },
    {
     "data": {
      "text/plain": [
       "MLPClassifier(activation='relu', alpha=0.0001, batch_size='auto', beta_1=0.9,\n",
       "              beta_2=0.999, early_stopping=False, epsilon=1e-08,\n",
       "              hidden_layer_sizes=(98, 98), learning_rate='constant',\n",
       "              learning_rate_init=0.001, max_fun=15000, max_iter=200,\n",
       "              momentum=0.9, n_iter_no_change=10, nesterovs_momentum=True,\n",
       "              power_t=0.5, random_state=1, shuffle=True, solver='adam',\n",
       "              tol=0.0001, validation_fraction=0.1, verbose=1, warm_start=False)"
      ]
     },
     "execution_count": 253,
     "metadata": {},
     "output_type": "execute_result"
    }
   ],
   "source": [
    "clf.fit(x_train, y_train)"
   ]
  },
  {
   "cell_type": "code",
   "execution_count": 256,
   "metadata": {},
   "outputs": [
    {
     "ename": "MemoryError",
     "evalue": "Unable to allocate array with shape (61282, 98) and data type float64",
     "output_type": "error",
     "traceback": [
      "\u001b[1;31m---------------------------------------------------------------------------\u001b[0m",
      "\u001b[1;31mMemoryError\u001b[0m                               Traceback (most recent call last)",
      "\u001b[1;32m<ipython-input-256-18ed22a320e1>\u001b[0m in \u001b[0;36m<module>\u001b[1;34m\u001b[0m\n\u001b[1;32m----> 1\u001b[1;33m \u001b[0mclf\u001b[0m\u001b[1;33m.\u001b[0m\u001b[0mscore\u001b[0m\u001b[1;33m(\u001b[0m\u001b[0mx_train\u001b[0m\u001b[1;33m,\u001b[0m \u001b[0my_train\u001b[0m\u001b[1;33m)\u001b[0m\u001b[1;33m\u001b[0m\u001b[1;33m\u001b[0m\u001b[0m\n\u001b[0m",
      "\u001b[1;32mc:\\users\\alexander\\appdata\\local\\programs\\python\\python38-32\\lib\\site-packages\\sklearn\\base.py\u001b[0m in \u001b[0;36mscore\u001b[1;34m(self, X, y, sample_weight)\u001b[0m\n\u001b[0;32m    367\u001b[0m         \"\"\"\n\u001b[0;32m    368\u001b[0m         \u001b[1;32mfrom\u001b[0m \u001b[1;33m.\u001b[0m\u001b[0mmetrics\u001b[0m \u001b[1;32mimport\u001b[0m \u001b[0maccuracy_score\u001b[0m\u001b[1;33m\u001b[0m\u001b[1;33m\u001b[0m\u001b[0m\n\u001b[1;32m--> 369\u001b[1;33m         \u001b[1;32mreturn\u001b[0m \u001b[0maccuracy_score\u001b[0m\u001b[1;33m(\u001b[0m\u001b[0my\u001b[0m\u001b[1;33m,\u001b[0m \u001b[0mself\u001b[0m\u001b[1;33m.\u001b[0m\u001b[0mpredict\u001b[0m\u001b[1;33m(\u001b[0m\u001b[0mX\u001b[0m\u001b[1;33m)\u001b[0m\u001b[1;33m,\u001b[0m \u001b[0msample_weight\u001b[0m\u001b[1;33m=\u001b[0m\u001b[0msample_weight\u001b[0m\u001b[1;33m)\u001b[0m\u001b[1;33m\u001b[0m\u001b[1;33m\u001b[0m\u001b[0m\n\u001b[0m\u001b[0;32m    370\u001b[0m \u001b[1;33m\u001b[0m\u001b[0m\n\u001b[0;32m    371\u001b[0m \u001b[1;33m\u001b[0m\u001b[0m\n",
      "\u001b[1;32mc:\\users\\alexander\\appdata\\local\\programs\\python\\python38-32\\lib\\site-packages\\sklearn\\neural_network\\_multilayer_perceptron.py\u001b[0m in \u001b[0;36mpredict\u001b[1;34m(self, X)\u001b[0m\n\u001b[0;32m    969\u001b[0m         \"\"\"\n\u001b[0;32m    970\u001b[0m         \u001b[0mcheck_is_fitted\u001b[0m\u001b[1;33m(\u001b[0m\u001b[0mself\u001b[0m\u001b[1;33m)\u001b[0m\u001b[1;33m\u001b[0m\u001b[1;33m\u001b[0m\u001b[0m\n\u001b[1;32m--> 971\u001b[1;33m         \u001b[0my_pred\u001b[0m \u001b[1;33m=\u001b[0m \u001b[0mself\u001b[0m\u001b[1;33m.\u001b[0m\u001b[0m_predict\u001b[0m\u001b[1;33m(\u001b[0m\u001b[0mX\u001b[0m\u001b[1;33m)\u001b[0m\u001b[1;33m\u001b[0m\u001b[1;33m\u001b[0m\u001b[0m\n\u001b[0m\u001b[0;32m    972\u001b[0m \u001b[1;33m\u001b[0m\u001b[0m\n\u001b[0;32m    973\u001b[0m         \u001b[1;32mif\u001b[0m \u001b[0mself\u001b[0m\u001b[1;33m.\u001b[0m\u001b[0mn_outputs_\u001b[0m \u001b[1;33m==\u001b[0m \u001b[1;36m1\u001b[0m\u001b[1;33m:\u001b[0m\u001b[1;33m\u001b[0m\u001b[1;33m\u001b[0m\u001b[0m\n",
      "\u001b[1;32mc:\\users\\alexander\\appdata\\local\\programs\\python\\python38-32\\lib\\site-packages\\sklearn\\neural_network\\_multilayer_perceptron.py\u001b[0m in \u001b[0;36m_predict\u001b[1;34m(self, X)\u001b[0m\n\u001b[0;32m    680\u001b[0m \u001b[1;33m\u001b[0m\u001b[0m\n\u001b[0;32m    681\u001b[0m         \u001b[1;32mfor\u001b[0m \u001b[0mi\u001b[0m \u001b[1;32min\u001b[0m \u001b[0mrange\u001b[0m\u001b[1;33m(\u001b[0m\u001b[0mself\u001b[0m\u001b[1;33m.\u001b[0m\u001b[0mn_layers_\u001b[0m \u001b[1;33m-\u001b[0m \u001b[1;36m1\u001b[0m\u001b[1;33m)\u001b[0m\u001b[1;33m:\u001b[0m\u001b[1;33m\u001b[0m\u001b[1;33m\u001b[0m\u001b[0m\n\u001b[1;32m--> 682\u001b[1;33m             activations.append(np.empty((X.shape[0],\n\u001b[0m\u001b[0;32m    683\u001b[0m                                          layer_units[i + 1])))\n\u001b[0;32m    684\u001b[0m         \u001b[1;31m# forward propagate\u001b[0m\u001b[1;33m\u001b[0m\u001b[1;33m\u001b[0m\u001b[1;33m\u001b[0m\u001b[0m\n",
      "\u001b[1;31mMemoryError\u001b[0m: Unable to allocate array with shape (61282, 98) and data type float64"
     ]
    }
   ],
   "source": [
    "clf.score(x_train, y_train)"
   ]
  },
  {
   "cell_type": "code",
   "execution_count": 255,
   "metadata": {},
   "outputs": [
    {
     "data": {
      "text/plain": [
       "0.6160172312512238"
      ]
     },
     "execution_count": 255,
     "metadata": {},
     "output_type": "execute_result"
    }
   ],
   "source": [
    "clf.score(x_val, y_val)"
   ]
  },
  {
   "cell_type": "code",
   "execution_count": null,
   "metadata": {},
   "outputs": [],
   "source": []
  }
 ],
 "metadata": {
  "kernelspec": {
   "display_name": "Python 3",
   "language": "python",
   "name": "python3"
  },
  "language_info": {
   "codemirror_mode": {
    "name": "ipython",
    "version": 3
   },
   "file_extension": ".py",
   "mimetype": "text/x-python",
   "name": "python",
   "nbconvert_exporter": "python",
   "pygments_lexer": "ipython3",
   "version": "3.8.0"
  }
 },
 "nbformat": 4,
 "nbformat_minor": 2
}
